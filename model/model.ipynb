{
 "cells": [
  {
   "cell_type": "markdown",
   "metadata": {},
   "source": [
    "## Read Data"
   ]
  },
  {
   "cell_type": "markdown",
   "metadata": {},
   "source": [
    "Check if we are running inside interactive environment.\n",
    "Use `in_ipython` to check if you should make interactive graphics and reports."
   ]
  },
  {
   "cell_type": "code",
   "execution_count": 1,
   "metadata": {},
   "outputs": [],
   "source": [
    "in_ipython = True\n",
    "try:\n",
    "    get_ipython\n",
    "except NameError:\n",
    "    in_ipython = False\n",
    "import pandas as pd"
   ]
  },
  {
   "cell_type": "markdown",
   "metadata": {},
   "source": [
    "This file was downloaded from https://www.kaggle.com/wendykan/lending-club-loan-data\n",
    "\n",
    "File should be put in the `model` folder next to this notebook script."
   ]
  },
  {
   "cell_type": "code",
   "execution_count": 2,
   "metadata": {},
   "outputs": [],
   "source": [
    "import os\n",
    "file_path = 'loan.csv'\n",
    "if not os.getcwd().endswith('model'):\n",
    "    file_path = os.path.join('model', file_path)\n",
    "kaggle_data = pd.read_csv(file_path, low_memory = False)"
   ]
  },
  {
   "cell_type": "markdown",
   "metadata": {},
   "source": [
    "## Preliminary Transformations (don't need to be run in prediction)"
   ]
  },
  {
   "cell_type": "markdown",
   "metadata": {},
   "source": [
    "Filter Loans (don't use current loans)"
   ]
  },
  {
   "cell_type": "code",
   "execution_count": 3,
   "metadata": {},
   "outputs": [],
   "source": [
    "kagge_data = kaggle_data[~kaggle_data.loan_status.isin([\"Current\", \"Does not meet the credit policy. Status:Charged Off\",\n",
    "                                                       \"Does not meet the credit policy. Status:Fully Paid\", \"Issued\"])]"
   ]
  },
  {
   "cell_type": "markdown",
   "metadata": {},
   "source": [
    "Create target variable"
   ]
  },
  {
   "cell_type": "code",
   "execution_count": 4,
   "metadata": {},
   "outputs": [],
   "source": [
    "kaggle_data = kagge_data.assign(good_loan = pd.Series(kagge_data.loan_status == \"Fully Paid\"))"
   ]
  },
  {
   "cell_type": "markdown",
   "metadata": {},
   "source": [
    "## Split Data into Training und Validation Set"
   ]
  },
  {
   "cell_type": "code",
   "execution_count": 5,
   "metadata": {},
   "outputs": [],
   "source": [
    "from sklearn.model_selection import train_test_split"
   ]
  },
  {
   "cell_type": "code",
   "execution_count": 6,
   "metadata": {},
   "outputs": [],
   "source": [
    "train_data, valid_data = train_test_split(kaggle_data,\n",
    "                                           test_size = 0.25,\n",
    "                                           random_state = 111)"
   ]
  },
  {
   "cell_type": "markdown",
   "metadata": {},
   "source": [
    "## Define Target and Features "
   ]
  },
  {
   "cell_type": "code",
   "execution_count": 7,
   "metadata": {},
   "outputs": [],
   "source": [
    "target = \"good_loan\"\n",
    "cat_features = ['home_ownership', 'purpose', 'addr_state']\n",
    "num_features = ['loan_amnt', 'installment', 'annual_inc', 'int_rate', 'emp_length']\n",
    "features = cat_features + num_features"
   ]
  },
  {
   "cell_type": "code",
   "execution_count": 8,
   "metadata": {},
   "outputs": [],
   "source": [
    "positive_class = True"
   ]
  },
  {
   "cell_type": "markdown",
   "metadata": {},
   "source": [
    "Data Types"
   ]
  },
  {
   "cell_type": "code",
   "execution_count": 9,
   "metadata": {
    "scrolled": true
   },
   "outputs": [
    {
     "data": {
      "text/plain": [
       "home_ownership     object\n",
       "purpose            object\n",
       "addr_state         object\n",
       "loan_amnt         float64\n",
       "installment       float64\n",
       "annual_inc        float64\n",
       "int_rate          float64\n",
       "emp_length         object\n",
       "dtype: object"
      ]
     },
     "execution_count": 9,
     "metadata": {},
     "output_type": "execute_result"
    }
   ],
   "source": [
    "kaggle_data[features].dtypes"
   ]
  },
  {
   "cell_type": "markdown",
   "metadata": {},
   "source": [
    "## Define Preprocessing"
   ]
  },
  {
   "cell_type": "code",
   "execution_count": 10,
   "metadata": {},
   "outputs": [],
   "source": [
    "import numpy as np\n",
    "from sklearn.base import BaseEstimator, TransformerMixin\n",
    "from sklearn.impute import SimpleImputer\n",
    "from sklearn.preprocessing import OneHotEncoder\n",
    "from sklearn.pipeline import Pipeline\n",
    "from sklearn.compose import ColumnTransformer"
   ]
  },
  {
   "cell_type": "markdown",
   "metadata": {},
   "source": [
    "**Create Derived Features**"
   ]
  },
  {
   "cell_type": "code",
   "execution_count": 11,
   "metadata": {},
   "outputs": [],
   "source": [
    "import re"
   ]
  },
  {
   "cell_type": "code",
   "execution_count": 12,
   "metadata": {},
   "outputs": [],
   "source": [
    "def emp_length_num(string):\n",
    "        if string == '< 1 year':\n",
    "            emp_length = 0\n",
    "        else:\n",
    "            emp_length = find_number(string)\n",
    "        return emp_length\n",
    "\n",
    "    \n",
    "    \n",
    "def find_number(string):\n",
    "        if type(string) is float:\n",
    "            first_number = float('NaN')\n",
    "        else:\n",
    "            first_number = int(re.findall(pattern = '(\\d+)', string = string)[0])\n",
    "        return first_number\n",
    "    \n",
    "class CreateDerivedFeatures(TransformerMixin, BaseEstimator):\n",
    "    def __init__(self):\n",
    "        self\n",
    "\n",
    "    def fit(self, X, *_):\n",
    "        return self\n",
    "        \n",
    "    def transform(self, X, *_):\n",
    "        X_transformed = X.assign(loan_income_ratio = pd.Series(X.loan_amnt / X.annual_inc),\n",
    "                                 interest_income_ratio = pd.Series((X.loan_amnt * 0.01 * X.int_rate)/ X.annual_inc),\n",
    "                                 emp_length = pd.Series(X.emp_length.apply(emp_length_num)))\n",
    "       \n",
    "        return X_transformed\n"
   ]
  },
  {
   "cell_type": "code",
   "execution_count": 13,
   "metadata": {},
   "outputs": [],
   "source": [
    "derive_step =('derive', CreateDerivedFeatures())\n",
    "derive_features = Pipeline([derive_step])"
   ]
  },
  {
   "cell_type": "markdown",
   "metadata": {},
   "source": [
    "**Categorical Features**"
   ]
  },
  {
   "cell_type": "code",
   "execution_count": 14,
   "metadata": {},
   "outputs": [],
   "source": [
    "si_step_cat = ('si_cat', SimpleImputer(strategy = 'constant',\n",
    "                                   fill_value= 'missing_value'))\n",
    "ohe_step_cat = ('ohe_cat', OneHotEncoder(handle_unknown='ignore',\n",
    "                                     sparse = False))\n",
    "\n",
    "pipe_cat = Pipeline([si_step_cat, ohe_step_cat])"
   ]
  },
  {
   "cell_type": "markdown",
   "metadata": {},
   "source": [
    "**Numerical Features**"
   ]
  },
  {
   "cell_type": "code",
   "execution_count": 15,
   "metadata": {},
   "outputs": [],
   "source": [
    "si_step_num = ('si_num', SimpleImputer(strategy='constant',\n",
    "                                       fill_value = -999))\n",
    "pipe_num = Pipeline([si_step_num])"
   ]
  },
  {
   "cell_type": "markdown",
   "metadata": {},
   "source": [
    "**Preprocessing**"
   ]
  },
  {
   "cell_type": "code",
   "execution_count": 16,
   "metadata": {},
   "outputs": [],
   "source": [
    "from sklearn.compose import ColumnTransformer"
   ]
  },
  {
   "cell_type": "code",
   "execution_count": 17,
   "metadata": {},
   "outputs": [],
   "source": [
    "preprocessor = ColumnTransformer(\n",
    "    transformers = [\n",
    "        ('cat', pipe_cat, cat_features),\n",
    "        ('num', pipe_num, num_features)\n",
    "    ])"
   ]
  },
  {
   "cell_type": "markdown",
   "metadata": {},
   "source": [
    "## Define Classification Model"
   ]
  },
  {
   "cell_type": "code",
   "execution_count": 18,
   "metadata": {},
   "outputs": [],
   "source": [
    "from sklearn.ensemble import RandomForestClassifier as rf"
   ]
  },
  {
   "cell_type": "code",
   "execution_count": 19,
   "metadata": {},
   "outputs": [],
   "source": [
    "classifier = rf(n_estimators = 20, max_depth = 20)"
   ]
  },
  {
   "cell_type": "markdown",
   "metadata": {},
   "source": [
    "## Combine Preprocessing and Classification into Pipeline"
   ]
  },
  {
   "cell_type": "code",
   "execution_count": 20,
   "metadata": {},
   "outputs": [],
   "source": [
    "preprocessor_classifier = Pipeline([\n",
    "    ('derive_features', derive_features),\n",
    "    ('preprocessor', preprocessor),\n",
    "    ('classifier', classifier)\n",
    "])"
   ]
  },
  {
   "cell_type": "markdown",
   "metadata": {},
   "source": [
    "## Training Modell"
   ]
  },
  {
   "cell_type": "code",
   "execution_count": 21,
   "metadata": {},
   "outputs": [],
   "source": [
    "fitted_model = preprocessor_classifier.fit(X = train_data[features], y = train_data[target])"
   ]
  },
  {
   "cell_type": "markdown",
   "metadata": {},
   "source": [
    "## Predictions Modell"
   ]
  },
  {
   "cell_type": "code",
   "execution_count": 22,
   "metadata": {},
   "outputs": [],
   "source": [
    "train_scores = fitted_model.predict_proba(X = train_data)\n",
    "train_predictions = fitted_model.predict(X = train_data)\n",
    "valid_scores = fitted_model.predict_proba(X = valid_data)\n",
    "valid_predictions = fitted_model.predict(X = valid_data)"
   ]
  },
  {
   "cell_type": "markdown",
   "metadata": {},
   "source": [
    "## Evaluation Modell"
   ]
  },
  {
   "cell_type": "markdown",
   "metadata": {},
   "source": [
    "**Classifier with Parameters**"
   ]
  },
  {
   "cell_type": "code",
   "execution_count": 23,
   "metadata": {},
   "outputs": [
    {
     "data": {
      "text/plain": [
       "RandomForestClassifier(bootstrap=True, class_weight=None, criterion='gini',\n",
       "            max_depth=20, max_features='auto', max_leaf_nodes=None,\n",
       "            min_impurity_decrease=0.0, min_impurity_split=None,\n",
       "            min_samples_leaf=1, min_samples_split=2,\n",
       "            min_weight_fraction_leaf=0.0, n_estimators=20, n_jobs=None,\n",
       "            oob_score=False, random_state=None, verbose=0,\n",
       "            warm_start=False)"
      ]
     },
     "execution_count": 23,
     "metadata": {},
     "output_type": "execute_result"
    }
   ],
   "source": [
    "classifier"
   ]
  },
  {
   "cell_type": "code",
   "execution_count": 24,
   "metadata": {},
   "outputs": [],
   "source": [
    "index_positive = np.min(np.where(classifier.classes_ == positive_class))"
   ]
  },
  {
   "cell_type": "markdown",
   "metadata": {},
   "source": [
    "**Feature Importance**"
   ]
  },
  {
   "cell_type": "markdown",
   "metadata": {},
   "source": [
    "Here I would like to see the names of the features"
   ]
  },
  {
   "cell_type": "code",
   "execution_count": 25,
   "metadata": {},
   "outputs": [],
   "source": [
    "top_n_features = 10"
   ]
  },
  {
   "cell_type": "code",
   "execution_count": 26,
   "metadata": {},
   "outputs": [
    {
     "name": "stdout",
     "output_type": "stream",
     "text": [
      "Feature ranking:\n",
      "1. feature 74 (0.326842)\n",
      "2. feature 73 (0.152081)\n",
      "3. feature 72 (0.143746)\n",
      "4. feature 71 (0.127597)\n",
      "5. feature 75 (0.070381)\n",
      "6. feature 1 (0.011020)\n",
      "7. feature 5 (0.009580)\n",
      "8. feature 8 (0.007969)\n",
      "9. feature 24 (0.006624)\n",
      "10. feature 7 (0.006531)\n"
     ]
    }
   ],
   "source": [
    "importances = fitted_model.named_steps['classifier'].feature_importances_\n",
    "indices = np.argsort(importances)[::-1]\n",
    "\n",
    "# Print the feature ranking\n",
    "print(\"Feature ranking:\")\n",
    "\n",
    "for f in range(0,top_n_features):\n",
    "    print(\"%d. feature %d (%f)\" % (f + 1, indices[f], importances[indices[f]]))"
   ]
  },
  {
   "cell_type": "code",
   "execution_count": 27,
   "metadata": {},
   "outputs": [],
   "source": [
    "if in_ipython:\n",
    "    import matplotlib.pyplot as plt"
   ]
  },
  {
   "cell_type": "code",
   "execution_count": 28,
   "metadata": {},
   "outputs": [
    {
     "data": {
      "image/png": "[encoded data removed]",
      "text/plain": [
       "<Figure size 432x288 with 1 Axes>"
      ]
     },
     "metadata": {
      "needs_background": "light"
     },
     "output_type": "display_data"
    }
   ],
   "source": [
    "if in_ipython:\n",
    "    plt.figure()\n",
    "    plt.bar(range(0,top_n_features), importances[indices][0:top_n_features],\n",
    "           color=\"r\", align=\"center\")\n",
    "    plt.xticks(range(0,top_n_features), indices)\n",
    "    plt.xlim([-1, top_n_features])\n",
    "    plt.show()"
   ]
  },
  {
   "cell_type": "markdown",
   "metadata": {},
   "source": [
    "**Classification Report**"
   ]
  },
  {
   "cell_type": "code",
   "execution_count": 29,
   "metadata": {},
   "outputs": [],
   "source": [
    "from sklearn.metrics import classification_report"
   ]
  },
  {
   "cell_type": "markdown",
   "metadata": {},
   "source": [
    "Training Set"
   ]
  },
  {
   "cell_type": "code",
   "execution_count": 30,
   "metadata": {},
   "outputs": [
    {
     "name": "stdout",
     "output_type": "stream",
     "text": [
      "              precision    recall  f1-score   support\n",
      "\n",
      "       False       0.94      0.17      0.29     50071\n",
      "        True       0.79      1.00      0.88    155722\n",
      "\n",
      "   micro avg       0.80      0.80      0.80    205793\n",
      "   macro avg       0.86      0.58      0.58    205793\n",
      "weighted avg       0.82      0.80      0.74    205793\n",
      "\n"
     ]
    }
   ],
   "source": [
    "print(classification_report(y_true= train_data[target],\n",
    "                      y_pred = train_predictions))"
   ]
  },
  {
   "cell_type": "markdown",
   "metadata": {},
   "source": [
    "Validation Set"
   ]
  },
  {
   "cell_type": "code",
   "execution_count": 31,
   "metadata": {},
   "outputs": [
    {
     "name": "stdout",
     "output_type": "stream",
     "text": [
      "              precision    recall  f1-score   support\n",
      "\n",
      "       False       0.54      0.06      0.11     16597\n",
      "        True       0.77      0.98      0.86     52001\n",
      "\n",
      "   micro avg       0.76      0.76      0.76     68598\n",
      "   macro avg       0.65      0.52      0.49     68598\n",
      "weighted avg       0.71      0.76      0.68     68598\n",
      "\n"
     ]
    }
   ],
   "source": [
    "print(classification_report(y_true= valid_data[target],\n",
    "                      y_pred = valid_predictions))"
   ]
  },
  {
   "cell_type": "markdown",
   "metadata": {},
   "source": [
    "**Confusion Matrix**"
   ]
  },
  {
   "cell_type": "code",
   "execution_count": 32,
   "metadata": {},
   "outputs": [],
   "source": [
    "from sklearn.metrics import confusion_matrix"
   ]
  },
  {
   "cell_type": "code",
   "execution_count": 33,
   "metadata": {},
   "outputs": [
    {
     "data": {
      "text/plain": [
       "array([[ 1064, 15533],\n",
       "       [  924, 51077]])"
      ]
     },
     "execution_count": 33,
     "metadata": {},
     "output_type": "execute_result"
    }
   ],
   "source": [
    "confusion_matrix(y_true = valid_data[target],\n",
    "                 y_pred = valid_predictions)"
   ]
  },
  {
   "cell_type": "markdown",
   "metadata": {},
   "source": [
    "**ROC**"
   ]
  },
  {
   "cell_type": "code",
   "execution_count": 34,
   "metadata": {},
   "outputs": [],
   "source": [
    "from sklearn.metrics import roc_auc_score, roc_curve"
   ]
  },
  {
   "cell_type": "code",
   "execution_count": 35,
   "metadata": {},
   "outputs": [
    {
     "data": {
      "text/plain": [
       "0.6817337102924188"
      ]
     },
     "execution_count": 35,
     "metadata": {},
     "output_type": "execute_result"
    }
   ],
   "source": [
    "roc_auc_score(y_true= valid_data[target],\n",
    "              y_score = valid_scores[:,index_positive])"
   ]
  },
  {
   "cell_type": "code",
   "execution_count": 36,
   "metadata": {},
   "outputs": [],
   "source": [
    "fpr, tpr, thresholds = roc_curve(y_true= valid_data[target], y_score=valid_scores[:,index_positive])"
   ]
  },
  {
   "cell_type": "code",
   "execution_count": 37,
   "metadata": {},
   "outputs": [
    {
     "data": {
      "image/png": "[encoded data removed]",
      "text/plain": [
       "<Figure size 432x288 with 1 Axes>"
      ]
     },
     "metadata": {
      "needs_background": "light"
     },
     "output_type": "display_data"
    }
   ],
   "source": [
    "if in_ipython:\n",
    "    plt.plot(fpr, tpr, 'ro')"
   ]
  },
  {
   "cell_type": "markdown",
   "metadata": {},
   "source": [
    "**Example Predictions**"
   ]
  },
  {
   "cell_type": "code",
   "execution_count": 38,
   "metadata": {},
   "outputs": [],
   "source": [
    "valid_data_predictions = valid_data.assign(scores = pd.Series(valid_scores[:,index_positive]).values)"
   ]
  },
  {
   "cell_type": "code",
   "execution_count": 39,
   "metadata": {},
   "outputs": [],
   "source": [
    "high_predictions = valid_data_predictions[valid_data_predictions.scores > 0.98]"
   ]
  },
  {
   "cell_type": "code",
   "execution_count": 40,
   "metadata": {},
   "outputs": [
    {
     "data": {
      "text/html": [
       "<div>\n",
       "<style scoped>\n",
       "    .dataframe tbody tr th:only-of-type {\n",
       "        vertical-align: middle;\n",
       "    }\n",
       "\n",
       "    .dataframe tbody tr th {\n",
       "        vertical-align: top;\n",
       "    }\n",
       "\n",
       "    .dataframe thead th {\n",
       "        text-align: right;\n",
       "    }\n",
       "</style>\n",
       "<table border=\"1\" class=\"dataframe\">\n",
       "  <thead>\n",
       "    <tr style=\"text-align: right;\">\n",
       "      <th></th>\n",
       "      <th>id</th>\n",
       "      <th>member_id</th>\n",
       "      <th>loan_amnt</th>\n",
       "      <th>funded_amnt</th>\n",
       "      <th>funded_amnt_inv</th>\n",
       "      <th>term</th>\n",
       "      <th>int_rate</th>\n",
       "      <th>installment</th>\n",
       "      <th>grade</th>\n",
       "      <th>sub_grade</th>\n",
       "      <th>...</th>\n",
       "      <th>open_rv_12m</th>\n",
       "      <th>open_rv_24m</th>\n",
       "      <th>max_bal_bc</th>\n",
       "      <th>all_util</th>\n",
       "      <th>total_rev_hi_lim</th>\n",
       "      <th>inq_fi</th>\n",
       "      <th>total_cu_tl</th>\n",
       "      <th>inq_last_12m</th>\n",
       "      <th>good_loan</th>\n",
       "      <th>scores</th>\n",
       "    </tr>\n",
       "  </thead>\n",
       "  <tbody>\n",
       "    <tr>\n",
       "      <th>226546</th>\n",
       "      <td>1118570</td>\n",
       "      <td>1356039</td>\n",
       "      <td>4150.0</td>\n",
       "      <td>4150.0</td>\n",
       "      <td>4150.000000</td>\n",
       "      <td>36 months</td>\n",
       "      <td>7.51</td>\n",
       "      <td>129.11</td>\n",
       "      <td>A</td>\n",
       "      <td>A3</td>\n",
       "      <td>...</td>\n",
       "      <td>NaN</td>\n",
       "      <td>NaN</td>\n",
       "      <td>NaN</td>\n",
       "      <td>NaN</td>\n",
       "      <td>NaN</td>\n",
       "      <td>NaN</td>\n",
       "      <td>NaN</td>\n",
       "      <td>NaN</td>\n",
       "      <td>True</td>\n",
       "      <td>0.989066</td>\n",
       "    </tr>\n",
       "    <tr>\n",
       "      <th>217416</th>\n",
       "      <td>1282553</td>\n",
       "      <td>1526329</td>\n",
       "      <td>12000.0</td>\n",
       "      <td>12000.0</td>\n",
       "      <td>12000.000000</td>\n",
       "      <td>36 months</td>\n",
       "      <td>6.03</td>\n",
       "      <td>365.23</td>\n",
       "      <td>A</td>\n",
       "      <td>A1</td>\n",
       "      <td>...</td>\n",
       "      <td>NaN</td>\n",
       "      <td>NaN</td>\n",
       "      <td>NaN</td>\n",
       "      <td>NaN</td>\n",
       "      <td>NaN</td>\n",
       "      <td>NaN</td>\n",
       "      <td>NaN</td>\n",
       "      <td>NaN</td>\n",
       "      <td>True</td>\n",
       "      <td>0.986342</td>\n",
       "    </tr>\n",
       "    <tr>\n",
       "      <th>195637</th>\n",
       "      <td>1555814</td>\n",
       "      <td>1822334</td>\n",
       "      <td>9000.0</td>\n",
       "      <td>9000.0</td>\n",
       "      <td>9000.000000</td>\n",
       "      <td>36 months</td>\n",
       "      <td>7.90</td>\n",
       "      <td>281.62</td>\n",
       "      <td>A</td>\n",
       "      <td>A4</td>\n",
       "      <td>...</td>\n",
       "      <td>NaN</td>\n",
       "      <td>NaN</td>\n",
       "      <td>NaN</td>\n",
       "      <td>NaN</td>\n",
       "      <td>9900.0</td>\n",
       "      <td>NaN</td>\n",
       "      <td>NaN</td>\n",
       "      <td>NaN</td>\n",
       "      <td>True</td>\n",
       "      <td>0.980136</td>\n",
       "    </tr>\n",
       "    <tr>\n",
       "      <th>345418</th>\n",
       "      <td>21360160</td>\n",
       "      <td>23673067</td>\n",
       "      <td>2000.0</td>\n",
       "      <td>2000.0</td>\n",
       "      <td>2000.000000</td>\n",
       "      <td>36 months</td>\n",
       "      <td>7.69</td>\n",
       "      <td>62.39</td>\n",
       "      <td>A</td>\n",
       "      <td>A4</td>\n",
       "      <td>...</td>\n",
       "      <td>NaN</td>\n",
       "      <td>NaN</td>\n",
       "      <td>NaN</td>\n",
       "      <td>NaN</td>\n",
       "      <td>97500.0</td>\n",
       "      <td>NaN</td>\n",
       "      <td>NaN</td>\n",
       "      <td>NaN</td>\n",
       "      <td>True</td>\n",
       "      <td>0.984842</td>\n",
       "    </tr>\n",
       "    <tr>\n",
       "      <th>14953</th>\n",
       "      <td>757895</td>\n",
       "      <td>957991</td>\n",
       "      <td>3000.0</td>\n",
       "      <td>3000.0</td>\n",
       "      <td>3000.000000</td>\n",
       "      <td>36 months</td>\n",
       "      <td>5.42</td>\n",
       "      <td>90.48</td>\n",
       "      <td>A</td>\n",
       "      <td>A1</td>\n",
       "      <td>...</td>\n",
       "      <td>NaN</td>\n",
       "      <td>NaN</td>\n",
       "      <td>NaN</td>\n",
       "      <td>NaN</td>\n",
       "      <td>NaN</td>\n",
       "      <td>NaN</td>\n",
       "      <td>NaN</td>\n",
       "      <td>NaN</td>\n",
       "      <td>True</td>\n",
       "      <td>0.983866</td>\n",
       "    </tr>\n",
       "    <tr>\n",
       "      <th>222420</th>\n",
       "      <td>1203743</td>\n",
       "      <td>1444875</td>\n",
       "      <td>8000.0</td>\n",
       "      <td>8000.0</td>\n",
       "      <td>8000.000000</td>\n",
       "      <td>36 months</td>\n",
       "      <td>6.03</td>\n",
       "      <td>243.49</td>\n",
       "      <td>A</td>\n",
       "      <td>A1</td>\n",
       "      <td>...</td>\n",
       "      <td>NaN</td>\n",
       "      <td>NaN</td>\n",
       "      <td>NaN</td>\n",
       "      <td>NaN</td>\n",
       "      <td>NaN</td>\n",
       "      <td>NaN</td>\n",
       "      <td>NaN</td>\n",
       "      <td>NaN</td>\n",
       "      <td>True</td>\n",
       "      <td>0.980396</td>\n",
       "    </tr>\n",
       "    <tr>\n",
       "      <th>17869</th>\n",
       "      <td>708178</td>\n",
       "      <td>900645</td>\n",
       "      <td>9000.0</td>\n",
       "      <td>9000.0</td>\n",
       "      <td>8997.458968</td>\n",
       "      <td>36 months</td>\n",
       "      <td>5.79</td>\n",
       "      <td>272.95</td>\n",
       "      <td>A</td>\n",
       "      <td>A2</td>\n",
       "      <td>...</td>\n",
       "      <td>NaN</td>\n",
       "      <td>NaN</td>\n",
       "      <td>NaN</td>\n",
       "      <td>NaN</td>\n",
       "      <td>NaN</td>\n",
       "      <td>NaN</td>\n",
       "      <td>NaN</td>\n",
       "      <td>NaN</td>\n",
       "      <td>True</td>\n",
       "      <td>0.985979</td>\n",
       "    </tr>\n",
       "    <tr>\n",
       "      <th>234426</th>\n",
       "      <td>37167359</td>\n",
       "      <td>39940113</td>\n",
       "      <td>6000.0</td>\n",
       "      <td>6000.0</td>\n",
       "      <td>6000.000000</td>\n",
       "      <td>36 months</td>\n",
       "      <td>6.49</td>\n",
       "      <td>183.87</td>\n",
       "      <td>A</td>\n",
       "      <td>A2</td>\n",
       "      <td>...</td>\n",
       "      <td>NaN</td>\n",
       "      <td>NaN</td>\n",
       "      <td>NaN</td>\n",
       "      <td>NaN</td>\n",
       "      <td>63800.0</td>\n",
       "      <td>NaN</td>\n",
       "      <td>NaN</td>\n",
       "      <td>NaN</td>\n",
       "      <td>True</td>\n",
       "      <td>0.989663</td>\n",
       "    </tr>\n",
       "    <tr>\n",
       "      <th>18975</th>\n",
       "      <td>685536</td>\n",
       "      <td>875193</td>\n",
       "      <td>9925.0</td>\n",
       "      <td>9925.0</td>\n",
       "      <td>9925.000000</td>\n",
       "      <td>36 months</td>\n",
       "      <td>7.29</td>\n",
       "      <td>307.78</td>\n",
       "      <td>A</td>\n",
       "      <td>A4</td>\n",
       "      <td>...</td>\n",
       "      <td>NaN</td>\n",
       "      <td>NaN</td>\n",
       "      <td>NaN</td>\n",
       "      <td>NaN</td>\n",
       "      <td>NaN</td>\n",
       "      <td>NaN</td>\n",
       "      <td>NaN</td>\n",
       "      <td>NaN</td>\n",
       "      <td>True</td>\n",
       "      <td>0.981341</td>\n",
       "    </tr>\n",
       "    <tr>\n",
       "      <th>427168</th>\n",
       "      <td>12786153</td>\n",
       "      <td>14808284</td>\n",
       "      <td>6500.0</td>\n",
       "      <td>6500.0</td>\n",
       "      <td>6500.000000</td>\n",
       "      <td>36 months</td>\n",
       "      <td>7.90</td>\n",
       "      <td>203.39</td>\n",
       "      <td>A</td>\n",
       "      <td>A4</td>\n",
       "      <td>...</td>\n",
       "      <td>NaN</td>\n",
       "      <td>NaN</td>\n",
       "      <td>NaN</td>\n",
       "      <td>NaN</td>\n",
       "      <td>24500.0</td>\n",
       "      <td>NaN</td>\n",
       "      <td>NaN</td>\n",
       "      <td>NaN</td>\n",
       "      <td>True</td>\n",
       "      <td>0.981041</td>\n",
       "    </tr>\n",
       "    <tr>\n",
       "      <th>674782</th>\n",
       "      <td>55180258</td>\n",
       "      <td>58751038</td>\n",
       "      <td>6600.0</td>\n",
       "      <td>6600.0</td>\n",
       "      <td>6600.000000</td>\n",
       "      <td>36 months</td>\n",
       "      <td>6.24</td>\n",
       "      <td>201.51</td>\n",
       "      <td>A</td>\n",
       "      <td>A2</td>\n",
       "      <td>...</td>\n",
       "      <td>NaN</td>\n",
       "      <td>NaN</td>\n",
       "      <td>NaN</td>\n",
       "      <td>NaN</td>\n",
       "      <td>36900.0</td>\n",
       "      <td>NaN</td>\n",
       "      <td>NaN</td>\n",
       "      <td>NaN</td>\n",
       "      <td>True</td>\n",
       "      <td>0.982531</td>\n",
       "    </tr>\n",
       "    <tr>\n",
       "      <th>31054</th>\n",
       "      <td>500124</td>\n",
       "      <td>642219</td>\n",
       "      <td>8000.0</td>\n",
       "      <td>8000.0</td>\n",
       "      <td>7000.000000</td>\n",
       "      <td>36 months</td>\n",
       "      <td>7.14</td>\n",
       "      <td>247.52</td>\n",
       "      <td>A</td>\n",
       "      <td>A3</td>\n",
       "      <td>...</td>\n",
       "      <td>NaN</td>\n",
       "      <td>NaN</td>\n",
       "      <td>NaN</td>\n",
       "      <td>NaN</td>\n",
       "      <td>NaN</td>\n",
       "      <td>NaN</td>\n",
       "      <td>NaN</td>\n",
       "      <td>NaN</td>\n",
       "      <td>True</td>\n",
       "      <td>0.982297</td>\n",
       "    </tr>\n",
       "    <tr>\n",
       "      <th>224872</th>\n",
       "      <td>1163740</td>\n",
       "      <td>1404914</td>\n",
       "      <td>7000.0</td>\n",
       "      <td>7000.0</td>\n",
       "      <td>7000.000000</td>\n",
       "      <td>36 months</td>\n",
       "      <td>6.62</td>\n",
       "      <td>214.93</td>\n",
       "      <td>A</td>\n",
       "      <td>A2</td>\n",
       "      <td>...</td>\n",
       "      <td>NaN</td>\n",
       "      <td>NaN</td>\n",
       "      <td>NaN</td>\n",
       "      <td>NaN</td>\n",
       "      <td>NaN</td>\n",
       "      <td>NaN</td>\n",
       "      <td>NaN</td>\n",
       "      <td>NaN</td>\n",
       "      <td>True</td>\n",
       "      <td>0.990480</td>\n",
       "    </tr>\n",
       "    <tr>\n",
       "      <th>207011</th>\n",
       "      <td>1427346</td>\n",
       "      <td>1678106</td>\n",
       "      <td>6000.0</td>\n",
       "      <td>6000.0</td>\n",
       "      <td>6000.000000</td>\n",
       "      <td>36 months</td>\n",
       "      <td>6.62</td>\n",
       "      <td>184.23</td>\n",
       "      <td>A</td>\n",
       "      <td>A2</td>\n",
       "      <td>...</td>\n",
       "      <td>NaN</td>\n",
       "      <td>NaN</td>\n",
       "      <td>NaN</td>\n",
       "      <td>NaN</td>\n",
       "      <td>NaN</td>\n",
       "      <td>NaN</td>\n",
       "      <td>NaN</td>\n",
       "      <td>NaN</td>\n",
       "      <td>True</td>\n",
       "      <td>0.982178</td>\n",
       "    </tr>\n",
       "    <tr>\n",
       "      <th>185473</th>\n",
       "      <td>2075248</td>\n",
       "      <td>2427445</td>\n",
       "      <td>6400.0</td>\n",
       "      <td>6400.0</td>\n",
       "      <td>6400.000000</td>\n",
       "      <td>36 months</td>\n",
       "      <td>7.90</td>\n",
       "      <td>200.26</td>\n",
       "      <td>A</td>\n",
       "      <td>A4</td>\n",
       "      <td>...</td>\n",
       "      <td>NaN</td>\n",
       "      <td>NaN</td>\n",
       "      <td>NaN</td>\n",
       "      <td>NaN</td>\n",
       "      <td>20600.0</td>\n",
       "      <td>NaN</td>\n",
       "      <td>NaN</td>\n",
       "      <td>NaN</td>\n",
       "      <td>True</td>\n",
       "      <td>0.983189</td>\n",
       "    </tr>\n",
       "    <tr>\n",
       "      <th>26840</th>\n",
       "      <td>563254</td>\n",
       "      <td>724759</td>\n",
       "      <td>4000.0</td>\n",
       "      <td>4000.0</td>\n",
       "      <td>4000.000000</td>\n",
       "      <td>36 months</td>\n",
       "      <td>7.14</td>\n",
       "      <td>123.77</td>\n",
       "      <td>A</td>\n",
       "      <td>A3</td>\n",
       "      <td>...</td>\n",
       "      <td>NaN</td>\n",
       "      <td>NaN</td>\n",
       "      <td>NaN</td>\n",
       "      <td>NaN</td>\n",
       "      <td>NaN</td>\n",
       "      <td>NaN</td>\n",
       "      <td>NaN</td>\n",
       "      <td>NaN</td>\n",
       "      <td>True</td>\n",
       "      <td>0.986732</td>\n",
       "    </tr>\n",
       "    <tr>\n",
       "      <th>208112</th>\n",
       "      <td>1415545</td>\n",
       "      <td>1665504</td>\n",
       "      <td>6000.0</td>\n",
       "      <td>6000.0</td>\n",
       "      <td>6000.000000</td>\n",
       "      <td>36 months</td>\n",
       "      <td>7.90</td>\n",
       "      <td>187.75</td>\n",
       "      <td>A</td>\n",
       "      <td>A4</td>\n",
       "      <td>...</td>\n",
       "      <td>NaN</td>\n",
       "      <td>NaN</td>\n",
       "      <td>NaN</td>\n",
       "      <td>NaN</td>\n",
       "      <td>NaN</td>\n",
       "      <td>NaN</td>\n",
       "      <td>NaN</td>\n",
       "      <td>NaN</td>\n",
       "      <td>True</td>\n",
       "      <td>0.980037</td>\n",
       "    </tr>\n",
       "    <tr>\n",
       "      <th>17502</th>\n",
       "      <td>714529</td>\n",
       "      <td>907955</td>\n",
       "      <td>6800.0</td>\n",
       "      <td>6800.0</td>\n",
       "      <td>6750.000000</td>\n",
       "      <td>36 months</td>\n",
       "      <td>5.79</td>\n",
       "      <td>206.23</td>\n",
       "      <td>A</td>\n",
       "      <td>A2</td>\n",
       "      <td>...</td>\n",
       "      <td>NaN</td>\n",
       "      <td>NaN</td>\n",
       "      <td>NaN</td>\n",
       "      <td>NaN</td>\n",
       "      <td>NaN</td>\n",
       "      <td>NaN</td>\n",
       "      <td>NaN</td>\n",
       "      <td>NaN</td>\n",
       "      <td>True</td>\n",
       "      <td>0.986706</td>\n",
       "    </tr>\n",
       "    <tr>\n",
       "      <th>53725</th>\n",
       "      <td>9185011</td>\n",
       "      <td>11017131</td>\n",
       "      <td>3800.0</td>\n",
       "      <td>3800.0</td>\n",
       "      <td>3800.000000</td>\n",
       "      <td>36 months</td>\n",
       "      <td>7.90</td>\n",
       "      <td>118.91</td>\n",
       "      <td>A</td>\n",
       "      <td>A4</td>\n",
       "      <td>...</td>\n",
       "      <td>NaN</td>\n",
       "      <td>NaN</td>\n",
       "      <td>NaN</td>\n",
       "      <td>NaN</td>\n",
       "      <td>20900.0</td>\n",
       "      <td>NaN</td>\n",
       "      <td>NaN</td>\n",
       "      <td>NaN</td>\n",
       "      <td>True</td>\n",
       "      <td>0.980219</td>\n",
       "    </tr>\n",
       "    <tr>\n",
       "      <th>10004</th>\n",
       "      <td>840046</td>\n",
       "      <td>1050351</td>\n",
       "      <td>2000.0</td>\n",
       "      <td>2000.0</td>\n",
       "      <td>2000.000000</td>\n",
       "      <td>36 months</td>\n",
       "      <td>5.42</td>\n",
       "      <td>60.32</td>\n",
       "      <td>A</td>\n",
       "      <td>A1</td>\n",
       "      <td>...</td>\n",
       "      <td>NaN</td>\n",
       "      <td>NaN</td>\n",
       "      <td>NaN</td>\n",
       "      <td>NaN</td>\n",
       "      <td>NaN</td>\n",
       "      <td>NaN</td>\n",
       "      <td>NaN</td>\n",
       "      <td>NaN</td>\n",
       "      <td>True</td>\n",
       "      <td>0.980098</td>\n",
       "    </tr>\n",
       "  </tbody>\n",
       "</table>\n",
       "<p>20 rows × 76 columns</p>\n",
       "</div>"
      ],
      "text/plain": [
       "              id  member_id  loan_amnt  funded_amnt  funded_amnt_inv  \\\n",
       "226546   1118570    1356039     4150.0       4150.0      4150.000000   \n",
       "217416   1282553    1526329    12000.0      12000.0     12000.000000   \n",
       "195637   1555814    1822334     9000.0       9000.0      9000.000000   \n",
       "345418  21360160   23673067     2000.0       2000.0      2000.000000   \n",
       "14953     757895     957991     3000.0       3000.0      3000.000000   \n",
       "222420   1203743    1444875     8000.0       8000.0      8000.000000   \n",
       "17869     708178     900645     9000.0       9000.0      8997.458968   \n",
       "234426  37167359   39940113     6000.0       6000.0      6000.000000   \n",
       "18975     685536     875193     9925.0       9925.0      9925.000000   \n",
       "427168  12786153   14808284     6500.0       6500.0      6500.000000   \n",
       "674782  55180258   58751038     6600.0       6600.0      6600.000000   \n",
       "31054     500124     642219     8000.0       8000.0      7000.000000   \n",
       "224872   1163740    1404914     7000.0       7000.0      7000.000000   \n",
       "207011   1427346    1678106     6000.0       6000.0      6000.000000   \n",
       "185473   2075248    2427445     6400.0       6400.0      6400.000000   \n",
       "26840     563254     724759     4000.0       4000.0      4000.000000   \n",
       "208112   1415545    1665504     6000.0       6000.0      6000.000000   \n",
       "17502     714529     907955     6800.0       6800.0      6750.000000   \n",
       "53725    9185011   11017131     3800.0       3800.0      3800.000000   \n",
       "10004     840046    1050351     2000.0       2000.0      2000.000000   \n",
       "\n",
       "              term  int_rate  installment grade sub_grade  ... open_rv_12m  \\\n",
       "226546   36 months      7.51       129.11     A        A3  ...         NaN   \n",
       "217416   36 months      6.03       365.23     A        A1  ...         NaN   \n",
       "195637   36 months      7.90       281.62     A        A4  ...         NaN   \n",
       "345418   36 months      7.69        62.39     A        A4  ...         NaN   \n",
       "14953    36 months      5.42        90.48     A        A1  ...         NaN   \n",
       "222420   36 months      6.03       243.49     A        A1  ...         NaN   \n",
       "17869    36 months      5.79       272.95     A        A2  ...         NaN   \n",
       "234426   36 months      6.49       183.87     A        A2  ...         NaN   \n",
       "18975    36 months      7.29       307.78     A        A4  ...         NaN   \n",
       "427168   36 months      7.90       203.39     A        A4  ...         NaN   \n",
       "674782   36 months      6.24       201.51     A        A2  ...         NaN   \n",
       "31054    36 months      7.14       247.52     A        A3  ...         NaN   \n",
       "224872   36 months      6.62       214.93     A        A2  ...         NaN   \n",
       "207011   36 months      6.62       184.23     A        A2  ...         NaN   \n",
       "185473   36 months      7.90       200.26     A        A4  ...         NaN   \n",
       "26840    36 months      7.14       123.77     A        A3  ...         NaN   \n",
       "208112   36 months      7.90       187.75     A        A4  ...         NaN   \n",
       "17502    36 months      5.79       206.23     A        A2  ...         NaN   \n",
       "53725    36 months      7.90       118.91     A        A4  ...         NaN   \n",
       "10004    36 months      5.42        60.32     A        A1  ...         NaN   \n",
       "\n",
       "       open_rv_24m max_bal_bc  all_util total_rev_hi_lim inq_fi total_cu_tl  \\\n",
       "226546         NaN        NaN       NaN              NaN    NaN         NaN   \n",
       "217416         NaN        NaN       NaN              NaN    NaN         NaN   \n",
       "195637         NaN        NaN       NaN           9900.0    NaN         NaN   \n",
       "345418         NaN        NaN       NaN          97500.0    NaN         NaN   \n",
       "14953          NaN        NaN       NaN              NaN    NaN         NaN   \n",
       "222420         NaN        NaN       NaN              NaN    NaN         NaN   \n",
       "17869          NaN        NaN       NaN              NaN    NaN         NaN   \n",
       "234426         NaN        NaN       NaN          63800.0    NaN         NaN   \n",
       "18975          NaN        NaN       NaN              NaN    NaN         NaN   \n",
       "427168         NaN        NaN       NaN          24500.0    NaN         NaN   \n",
       "674782         NaN        NaN       NaN          36900.0    NaN         NaN   \n",
       "31054          NaN        NaN       NaN              NaN    NaN         NaN   \n",
       "224872         NaN        NaN       NaN              NaN    NaN         NaN   \n",
       "207011         NaN        NaN       NaN              NaN    NaN         NaN   \n",
       "185473         NaN        NaN       NaN          20600.0    NaN         NaN   \n",
       "26840          NaN        NaN       NaN              NaN    NaN         NaN   \n",
       "208112         NaN        NaN       NaN              NaN    NaN         NaN   \n",
       "17502          NaN        NaN       NaN              NaN    NaN         NaN   \n",
       "53725          NaN        NaN       NaN          20900.0    NaN         NaN   \n",
       "10004          NaN        NaN       NaN              NaN    NaN         NaN   \n",
       "\n",
       "       inq_last_12m good_loan    scores  \n",
       "226546          NaN      True  0.989066  \n",
       "217416          NaN      True  0.986342  \n",
       "195637          NaN      True  0.980136  \n",
       "345418          NaN      True  0.984842  \n",
       "14953           NaN      True  0.983866  \n",
       "222420          NaN      True  0.980396  \n",
       "17869           NaN      True  0.985979  \n",
       "234426          NaN      True  0.989663  \n",
       "18975           NaN      True  0.981341  \n",
       "427168          NaN      True  0.981041  \n",
       "674782          NaN      True  0.982531  \n",
       "31054           NaN      True  0.982297  \n",
       "224872          NaN      True  0.990480  \n",
       "207011          NaN      True  0.982178  \n",
       "185473          NaN      True  0.983189  \n",
       "26840           NaN      True  0.986732  \n",
       "208112          NaN      True  0.980037  \n",
       "17502           NaN      True  0.986706  \n",
       "53725           NaN      True  0.980219  \n",
       "10004           NaN      True  0.980098  \n",
       "\n",
       "[20 rows x 76 columns]"
      ]
     },
     "execution_count": 40,
     "metadata": {},
     "output_type": "execute_result"
    }
   ],
   "source": [
    "high_predictions.head(20)"
   ]
  },
  {
   "cell_type": "code",
   "execution_count": 41,
   "metadata": {},
   "outputs": [],
   "source": [
    "low_predictions = valid_data_predictions[valid_data_predictions.scores < 0.3]"
   ]
  },
  {
   "cell_type": "code",
   "execution_count": 42,
   "metadata": {},
   "outputs": [
    {
     "data": {
      "text/html": [
       "<div>\n",
       "<style scoped>\n",
       "    .dataframe tbody tr th:only-of-type {\n",
       "        vertical-align: middle;\n",
       "    }\n",
       "\n",
       "    .dataframe tbody tr th {\n",
       "        vertical-align: top;\n",
       "    }\n",
       "\n",
       "    .dataframe thead th {\n",
       "        text-align: right;\n",
       "    }\n",
       "</style>\n",
       "<table border=\"1\" class=\"dataframe\">\n",
       "  <thead>\n",
       "    <tr style=\"text-align: right;\">\n",
       "      <th></th>\n",
       "      <th>id</th>\n",
       "      <th>member_id</th>\n",
       "      <th>loan_amnt</th>\n",
       "      <th>funded_amnt</th>\n",
       "      <th>funded_amnt_inv</th>\n",
       "      <th>term</th>\n",
       "      <th>int_rate</th>\n",
       "      <th>installment</th>\n",
       "      <th>grade</th>\n",
       "      <th>sub_grade</th>\n",
       "      <th>...</th>\n",
       "      <th>open_rv_12m</th>\n",
       "      <th>open_rv_24m</th>\n",
       "      <th>max_bal_bc</th>\n",
       "      <th>all_util</th>\n",
       "      <th>total_rev_hi_lim</th>\n",
       "      <th>inq_fi</th>\n",
       "      <th>total_cu_tl</th>\n",
       "      <th>inq_last_12m</th>\n",
       "      <th>good_loan</th>\n",
       "      <th>scores</th>\n",
       "    </tr>\n",
       "  </thead>\n",
       "  <tbody>\n",
       "    <tr>\n",
       "      <th>430223</th>\n",
       "      <td>12655855</td>\n",
       "      <td>14658007</td>\n",
       "      <td>25000.0</td>\n",
       "      <td>25000.0</td>\n",
       "      <td>25000.0</td>\n",
       "      <td>60 months</td>\n",
       "      <td>24.08</td>\n",
       "      <td>720.37</td>\n",
       "      <td>F</td>\n",
       "      <td>F2</td>\n",
       "      <td>...</td>\n",
       "      <td>NaN</td>\n",
       "      <td>NaN</td>\n",
       "      <td>NaN</td>\n",
       "      <td>NaN</td>\n",
       "      <td>28100.0</td>\n",
       "      <td>NaN</td>\n",
       "      <td>NaN</td>\n",
       "      <td>NaN</td>\n",
       "      <td>False</td>\n",
       "      <td>0.251048</td>\n",
       "    </tr>\n",
       "    <tr>\n",
       "      <th>203376</th>\n",
       "      <td>1468419</td>\n",
       "      <td>1725014</td>\n",
       "      <td>9800.0</td>\n",
       "      <td>9800.0</td>\n",
       "      <td>9800.0</td>\n",
       "      <td>60 months</td>\n",
       "      <td>23.76</td>\n",
       "      <td>280.57</td>\n",
       "      <td>F</td>\n",
       "      <td>F4</td>\n",
       "      <td>...</td>\n",
       "      <td>NaN</td>\n",
       "      <td>NaN</td>\n",
       "      <td>NaN</td>\n",
       "      <td>NaN</td>\n",
       "      <td>NaN</td>\n",
       "      <td>NaN</td>\n",
       "      <td>NaN</td>\n",
       "      <td>NaN</td>\n",
       "      <td>False</td>\n",
       "      <td>0.290052</td>\n",
       "    </tr>\n",
       "    <tr>\n",
       "      <th>168576</th>\n",
       "      <td>3244731</td>\n",
       "      <td>3986882</td>\n",
       "      <td>30225.0</td>\n",
       "      <td>30225.0</td>\n",
       "      <td>30225.0</td>\n",
       "      <td>60 months</td>\n",
       "      <td>23.63</td>\n",
       "      <td>863.04</td>\n",
       "      <td>F</td>\n",
       "      <td>F3</td>\n",
       "      <td>...</td>\n",
       "      <td>NaN</td>\n",
       "      <td>NaN</td>\n",
       "      <td>NaN</td>\n",
       "      <td>NaN</td>\n",
       "      <td>26400.0</td>\n",
       "      <td>NaN</td>\n",
       "      <td>NaN</td>\n",
       "      <td>NaN</td>\n",
       "      <td>False</td>\n",
       "      <td>0.288476</td>\n",
       "    </tr>\n",
       "    <tr>\n",
       "      <th>66215</th>\n",
       "      <td>8637948</td>\n",
       "      <td>10409831</td>\n",
       "      <td>18000.0</td>\n",
       "      <td>18000.0</td>\n",
       "      <td>18000.0</td>\n",
       "      <td>60 months</td>\n",
       "      <td>25.80</td>\n",
       "      <td>536.80</td>\n",
       "      <td>G</td>\n",
       "      <td>G1</td>\n",
       "      <td>...</td>\n",
       "      <td>NaN</td>\n",
       "      <td>NaN</td>\n",
       "      <td>NaN</td>\n",
       "      <td>NaN</td>\n",
       "      <td>45700.0</td>\n",
       "      <td>NaN</td>\n",
       "      <td>NaN</td>\n",
       "      <td>NaN</td>\n",
       "      <td>True</td>\n",
       "      <td>0.263589</td>\n",
       "    </tr>\n",
       "    <tr>\n",
       "      <th>794796</th>\n",
       "      <td>44805183</td>\n",
       "      <td>47882895</td>\n",
       "      <td>13850.0</td>\n",
       "      <td>13850.0</td>\n",
       "      <td>13850.0</td>\n",
       "      <td>60 months</td>\n",
       "      <td>25.83</td>\n",
       "      <td>413.29</td>\n",
       "      <td>G</td>\n",
       "      <td>G2</td>\n",
       "      <td>...</td>\n",
       "      <td>NaN</td>\n",
       "      <td>NaN</td>\n",
       "      <td>NaN</td>\n",
       "      <td>NaN</td>\n",
       "      <td>20400.0</td>\n",
       "      <td>NaN</td>\n",
       "      <td>NaN</td>\n",
       "      <td>NaN</td>\n",
       "      <td>True</td>\n",
       "      <td>0.293630</td>\n",
       "    </tr>\n",
       "    <tr>\n",
       "      <th>171931</th>\n",
       "      <td>3158520</td>\n",
       "      <td>3870925</td>\n",
       "      <td>29175.0</td>\n",
       "      <td>29175.0</td>\n",
       "      <td>29125.0</td>\n",
       "      <td>60 months</td>\n",
       "      <td>23.76</td>\n",
       "      <td>835.25</td>\n",
       "      <td>F</td>\n",
       "      <td>F4</td>\n",
       "      <td>...</td>\n",
       "      <td>NaN</td>\n",
       "      <td>NaN</td>\n",
       "      <td>NaN</td>\n",
       "      <td>NaN</td>\n",
       "      <td>34400.0</td>\n",
       "      <td>NaN</td>\n",
       "      <td>NaN</td>\n",
       "      <td>NaN</td>\n",
       "      <td>True</td>\n",
       "      <td>0.292740</td>\n",
       "    </tr>\n",
       "    <tr>\n",
       "      <th>416902</th>\n",
       "      <td>13126174</td>\n",
       "      <td>15148371</td>\n",
       "      <td>18000.0</td>\n",
       "      <td>18000.0</td>\n",
       "      <td>17950.0</td>\n",
       "      <td>60 months</td>\n",
       "      <td>19.99</td>\n",
       "      <td>476.79</td>\n",
       "      <td>E</td>\n",
       "      <td>E1</td>\n",
       "      <td>...</td>\n",
       "      <td>NaN</td>\n",
       "      <td>NaN</td>\n",
       "      <td>NaN</td>\n",
       "      <td>NaN</td>\n",
       "      <td>10500.0</td>\n",
       "      <td>NaN</td>\n",
       "      <td>NaN</td>\n",
       "      <td>NaN</td>\n",
       "      <td>True</td>\n",
       "      <td>0.276427</td>\n",
       "    </tr>\n",
       "    <tr>\n",
       "      <th>120827</th>\n",
       "      <td>5785333</td>\n",
       "      <td>7217476</td>\n",
       "      <td>35000.0</td>\n",
       "      <td>35000.0</td>\n",
       "      <td>34975.0</td>\n",
       "      <td>36 months</td>\n",
       "      <td>21.60</td>\n",
       "      <td>1329.44</td>\n",
       "      <td>E</td>\n",
       "      <td>E3</td>\n",
       "      <td>...</td>\n",
       "      <td>NaN</td>\n",
       "      <td>NaN</td>\n",
       "      <td>NaN</td>\n",
       "      <td>NaN</td>\n",
       "      <td>48200.0</td>\n",
       "      <td>NaN</td>\n",
       "      <td>NaN</td>\n",
       "      <td>NaN</td>\n",
       "      <td>True</td>\n",
       "      <td>0.265668</td>\n",
       "    </tr>\n",
       "  </tbody>\n",
       "</table>\n",
       "<p>8 rows × 76 columns</p>\n",
       "</div>"
      ],
      "text/plain": [
       "              id  member_id  loan_amnt  funded_amnt  funded_amnt_inv  \\\n",
       "430223  12655855   14658007    25000.0      25000.0          25000.0   \n",
       "203376   1468419    1725014     9800.0       9800.0           9800.0   \n",
       "168576   3244731    3986882    30225.0      30225.0          30225.0   \n",
       "66215    8637948   10409831    18000.0      18000.0          18000.0   \n",
       "794796  44805183   47882895    13850.0      13850.0          13850.0   \n",
       "171931   3158520    3870925    29175.0      29175.0          29125.0   \n",
       "416902  13126174   15148371    18000.0      18000.0          17950.0   \n",
       "120827   5785333    7217476    35000.0      35000.0          34975.0   \n",
       "\n",
       "              term  int_rate  installment grade sub_grade  ... open_rv_12m  \\\n",
       "430223   60 months     24.08       720.37     F        F2  ...         NaN   \n",
       "203376   60 months     23.76       280.57     F        F4  ...         NaN   \n",
       "168576   60 months     23.63       863.04     F        F3  ...         NaN   \n",
       "66215    60 months     25.80       536.80     G        G1  ...         NaN   \n",
       "794796   60 months     25.83       413.29     G        G2  ...         NaN   \n",
       "171931   60 months     23.76       835.25     F        F4  ...         NaN   \n",
       "416902   60 months     19.99       476.79     E        E1  ...         NaN   \n",
       "120827   36 months     21.60      1329.44     E        E3  ...         NaN   \n",
       "\n",
       "       open_rv_24m max_bal_bc  all_util total_rev_hi_lim inq_fi total_cu_tl  \\\n",
       "430223         NaN        NaN       NaN          28100.0    NaN         NaN   \n",
       "203376         NaN        NaN       NaN              NaN    NaN         NaN   \n",
       "168576         NaN        NaN       NaN          26400.0    NaN         NaN   \n",
       "66215          NaN        NaN       NaN          45700.0    NaN         NaN   \n",
       "794796         NaN        NaN       NaN          20400.0    NaN         NaN   \n",
       "171931         NaN        NaN       NaN          34400.0    NaN         NaN   \n",
       "416902         NaN        NaN       NaN          10500.0    NaN         NaN   \n",
       "120827         NaN        NaN       NaN          48200.0    NaN         NaN   \n",
       "\n",
       "       inq_last_12m good_loan    scores  \n",
       "430223          NaN     False  0.251048  \n",
       "203376          NaN     False  0.290052  \n",
       "168576          NaN     False  0.288476  \n",
       "66215           NaN      True  0.263589  \n",
       "794796          NaN      True  0.293630  \n",
       "171931          NaN      True  0.292740  \n",
       "416902          NaN      True  0.276427  \n",
       "120827          NaN      True  0.265668  \n",
       "\n",
       "[8 rows x 76 columns]"
      ]
     },
     "execution_count": 42,
     "metadata": {},
     "output_type": "execute_result"
    }
   ],
   "source": [
    "low_predictions.head(20)"
   ]
  }
 ],
 "metadata": {
  "kernelspec": {
   "display_name": "Python 3",
   "language": "python",
   "name": "python3"
  },
  "language_info": {
   "codemirror_mode": {
    "name": "ipython",
    "version": 3
   },
   "file_extension": ".py",
   "mimetype": "text/x-python",
   "name": "python",
   "nbconvert_exporter": "python",
   "pygments_lexer": "ipython3",
   "version": "3.7.2"
  }
 },
 "nbformat": 4,
 "nbformat_minor": 2
}
