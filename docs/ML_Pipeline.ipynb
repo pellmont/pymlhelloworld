{
 "cells": [
  {
   "cell_type": "markdown",
   "metadata": {},
   "source": [
    "## Read Data"
   ]
  },
  {
   "cell_type": "code",
   "execution_count": 1,
   "metadata": {},
   "outputs": [],
   "source": [
    "import pandas as pd"
   ]
  },
  {
   "cell_type": "markdown",
   "metadata": {},
   "source": [
    "This file was downloaded from https://www.kaggle.com/wendykan/lending-club-loan-data "
   ]
  },
  {
   "cell_type": "code",
   "execution_count": 2,
   "metadata": {},
   "outputs": [],
   "source": [
    "import os\n",
    "kaggle_data = pd.read_csv(os.path.join(\"..\", \"loan.csv\"), low_memory = False)"
   ]
  },
  {
   "cell_type": "markdown",
   "metadata": {},
   "source": [
    "## Preliminary Transformations (don't need to be run in prediction)"
   ]
  },
  {
   "cell_type": "markdown",
   "metadata": {},
   "source": [
    "Filter Loans (don't use current loans)"
   ]
  },
  {
   "cell_type": "code",
   "execution_count": 3,
   "metadata": {},
   "outputs": [],
   "source": [
    "kagge_data = kaggle_data[~kaggle_data.loan_status.isin([\"Current\", \"Does not meet the credit policy. Status:Charged Off\",\n",
    "                                                       \"Does not meet the credit policy. Status:Fully Paid\", \"Issued\"])]"
   ]
  },
  {
   "cell_type": "markdown",
   "metadata": {},
   "source": [
    "Create target variable"
   ]
  },
  {
   "cell_type": "code",
   "execution_count": 4,
   "metadata": {},
   "outputs": [],
   "source": [
    "kaggle_data = kagge_data.assign(good_loan = pd.Series(kagge_data.loan_status == \"Fully Paid\"))"
   ]
  },
  {
   "cell_type": "markdown",
   "metadata": {},
   "source": [
    "## Split Data into Training und Validation Set"
   ]
  },
  {
   "cell_type": "code",
   "execution_count": 5,
   "metadata": {},
   "outputs": [],
   "source": [
    "from sklearn.model_selection import train_test_split"
   ]
  },
  {
   "cell_type": "code",
   "execution_count": 6,
   "metadata": {},
   "outputs": [],
   "source": [
    "train_data, valid_data = train_test_split(kaggle_data,\n",
    "                                           test_size = 0.25,\n",
    "                                           random_state = 111)"
   ]
  },
  {
   "cell_type": "markdown",
   "metadata": {},
   "source": [
    "## Define Target and Features "
   ]
  },
  {
   "cell_type": "code",
   "execution_count": 7,
   "metadata": {},
   "outputs": [],
   "source": [
    "target = \"good_loan\"\n",
    "cat_features = ['home_ownership', 'purpose', 'addr_state']\n",
    "num_features = ['loan_amnt', 'installment', 'annual_inc', 'int_rate', 'emp_length']\n",
    "features = cat_features + num_features"
   ]
  },
  {
   "cell_type": "code",
   "execution_count": 8,
   "metadata": {},
   "outputs": [],
   "source": [
    "positive_class = True"
   ]
  },
  {
   "cell_type": "markdown",
   "metadata": {},
   "source": [
    "Data Types"
   ]
  },
  {
   "cell_type": "code",
   "execution_count": 9,
   "metadata": {},
   "outputs": [
    {
     "data": {
      "text/plain": [
       "home_ownership     object\n",
       "purpose            object\n",
       "addr_state         object\n",
       "loan_amnt         float64\n",
       "installment       float64\n",
       "annual_inc        float64\n",
       "int_rate          float64\n",
       "emp_length         object\n",
       "dtype: object"
      ]
     },
     "execution_count": 9,
     "metadata": {},
     "output_type": "execute_result"
    }
   ],
   "source": [
    "kaggle_data[features].dtypes"
   ]
  },
  {
   "cell_type": "markdown",
   "metadata": {},
   "source": [
    "## Define Preprocessing"
   ]
  },
  {
   "cell_type": "code",
   "execution_count": 10,
   "metadata": {},
   "outputs": [],
   "source": [
    "import numpy as np\n",
    "from sklearn.base import BaseEstimator, TransformerMixin\n",
    "from sklearn.impute import SimpleImputer\n",
    "from sklearn.preprocessing import OneHotEncoder\n",
    "from sklearn.pipeline import Pipeline\n",
    "from sklearn.compose import ColumnTransformer"
   ]
  },
  {
   "cell_type": "markdown",
   "metadata": {},
   "source": [
    "**Create Derived Features**"
   ]
  },
  {
   "cell_type": "code",
   "execution_count": 11,
   "metadata": {},
   "outputs": [],
   "source": [
    "import re"
   ]
  },
  {
   "cell_type": "code",
   "execution_count": 12,
   "metadata": {},
   "outputs": [],
   "source": [
    "def emp_length_num(string):\n",
    "        if string == '< 1 year':\n",
    "            emp_length = 0\n",
    "        else:\n",
    "            emp_length = find_number(string)\n",
    "        return emp_length\n",
    "\n",
    "    \n",
    "    \n",
    "def find_number(string):\n",
    "        if type(string) is float:\n",
    "            first_number = float('NaN')\n",
    "        else:\n",
    "            first_number = int(re.findall(pattern = '(\\d+)', string = string)[0])\n",
    "        return first_number\n",
    "    \n",
    "class CreateDerivedFeatures(TransformerMixin, BaseEstimator):\n",
    "    def __init__(self):\n",
    "        self\n",
    "\n",
    "    def fit(self, X, *_):\n",
    "        return self\n",
    "        \n",
    "    def transform(self, X, *_):\n",
    "        X_transformed = X.assign(loan_income_ratio = pd.Series(X.loan_amnt / X.annual_inc),\n",
    "                                 interest_income_ratio = pd.Series((X.loan_amnt * 0.01 * X.int_rate)/ X.annual_inc),\n",
    "                                 emp_length = pd.Series(X.emp_length.apply(emp_length_num)))\n",
    "       \n",
    "        return X_transformed\n"
   ]
  },
  {
   "cell_type": "code",
   "execution_count": 13,
   "metadata": {},
   "outputs": [],
   "source": [
    "derive_step =('derive', CreateDerivedFeatures())\n",
    "derive_features = Pipeline([derive_step])"
   ]
  },
  {
   "cell_type": "markdown",
   "metadata": {},
   "source": [
    "**Categorical Features**"
   ]
  },
  {
   "cell_type": "code",
   "execution_count": 14,
   "metadata": {},
   "outputs": [],
   "source": [
    "si_step_cat = ('si_cat', SimpleImputer(strategy = 'constant',\n",
    "                                   fill_value= 'missing_value'))\n",
    "ohe_step_cat = ('ohe_cat', OneHotEncoder(handle_unknown='ignore',\n",
    "                                     sparse = False))\n",
    "\n",
    "pipe_cat = Pipeline([si_step_cat, ohe_step_cat])"
   ]
  },
  {
   "cell_type": "markdown",
   "metadata": {},
   "source": [
    "**Numerical Features**"
   ]
  },
  {
   "cell_type": "code",
   "execution_count": 15,
   "metadata": {},
   "outputs": [],
   "source": [
    "si_step_num = ('si_num', SimpleImputer(strategy='constant',\n",
    "                                       fill_value = -999))\n",
    "pipe_num = Pipeline([si_step_num])"
   ]
  },
  {
   "cell_type": "markdown",
   "metadata": {},
   "source": [
    "**Preprocessing**"
   ]
  },
  {
   "cell_type": "code",
   "execution_count": 16,
   "metadata": {},
   "outputs": [],
   "source": [
    "from sklearn.compose import ColumnTransformer"
   ]
  },
  {
   "cell_type": "code",
   "execution_count": 17,
   "metadata": {},
   "outputs": [],
   "source": [
    "preprocessor = ColumnTransformer(\n",
    "    transformers = [\n",
    "        ('cat', pipe_cat, cat_features),\n",
    "        ('num', pipe_num, num_features)\n",
    "    ])"
   ]
  },
  {
   "cell_type": "markdown",
   "metadata": {},
   "source": [
    "## Define Classification Model"
   ]
  },
  {
   "cell_type": "code",
   "execution_count": 18,
   "metadata": {},
   "outputs": [],
   "source": [
    "from sklearn.ensemble import RandomForestClassifier as rf"
   ]
  },
  {
   "cell_type": "code",
   "execution_count": 19,
   "metadata": {},
   "outputs": [],
   "source": [
    "classifier = rf(n_estimators = 20, max_depth = 20)"
   ]
  },
  {
   "cell_type": "markdown",
   "metadata": {},
   "source": [
    "## Combine Preprocessing and Classification into Pipeline"
   ]
  },
  {
   "cell_type": "code",
   "execution_count": 20,
   "metadata": {},
   "outputs": [],
   "source": [
    "preprocessor_classifier = Pipeline([\n",
    "    ('derive_features', derive_features),\n",
    "    ('preprocessor', preprocessor),\n",
    "    ('classifier', classifier)\n",
    "])"
   ]
  },
  {
   "cell_type": "markdown",
   "metadata": {},
   "source": [
    "## Training Modell"
   ]
  },
  {
   "cell_type": "code",
   "execution_count": 21,
   "metadata": {},
   "outputs": [],
   "source": [
    "fitted_model = preprocessor_classifier.fit(X = train_data[features], y = train_data[target])"
   ]
  },
  {
   "cell_type": "markdown",
   "metadata": {},
   "source": [
    "## Predictions Modell"
   ]
  },
  {
   "cell_type": "code",
   "execution_count": 22,
   "metadata": {},
   "outputs": [],
   "source": [
    "train_scores = fitted_model.predict_proba(X = train_data)\n",
    "train_predictions = fitted_model.predict(X = train_data)\n",
    "valid_scores = fitted_model.predict_proba(X = valid_data)\n",
    "valid_predictions = fitted_model.predict(X = valid_data)"
   ]
  },
  {
   "cell_type": "markdown",
   "metadata": {},
   "source": [
    "## Evaluation Modell"
   ]
  },
  {
   "cell_type": "markdown",
   "metadata": {},
   "source": [
    "**Classifier with Parameters**"
   ]
  },
  {
   "cell_type": "code",
   "execution_count": 23,
   "metadata": {},
   "outputs": [
    {
     "data": {
      "text/plain": [
       "RandomForestClassifier(bootstrap=True, class_weight=None, criterion='gini',\n",
       "            max_depth=20, max_features='auto', max_leaf_nodes=None,\n",
       "            min_impurity_decrease=0.0, min_impurity_split=None,\n",
       "            min_samples_leaf=1, min_samples_split=2,\n",
       "            min_weight_fraction_leaf=0.0, n_estimators=20, n_jobs=None,\n",
       "            oob_score=False, random_state=None, verbose=0,\n",
       "            warm_start=False)"
      ]
     },
     "execution_count": 23,
     "metadata": {},
     "output_type": "execute_result"
    }
   ],
   "source": [
    "classifier"
   ]
  },
  {
   "cell_type": "code",
   "execution_count": 24,
   "metadata": {},
   "outputs": [],
   "source": [
    "index_positive = np.min(np.where(classifier.classes_ == positive_class))"
   ]
  },
  {
   "cell_type": "markdown",
   "metadata": {},
   "source": [
    "**Feature Importance**"
   ]
  },
  {
   "cell_type": "markdown",
   "metadata": {},
   "source": [
    "Here I would like to see the names of the features"
   ]
  },
  {
   "cell_type": "code",
   "execution_count": 25,
   "metadata": {},
   "outputs": [],
   "source": [
    "top_n_features = 10"
   ]
  },
  {
   "cell_type": "code",
   "execution_count": 26,
   "metadata": {},
   "outputs": [
    {
     "name": "stdout",
     "output_type": "stream",
     "text": [
      "Feature ranking:\n",
      "1. feature 74 (0.312056)\n",
      "2. feature 73 (0.152875)\n",
      "3. feature 72 (0.147765)\n",
      "4. feature 71 (0.134268)\n",
      "5. feature 75 (0.072349)\n",
      "6. feature 1 (0.011796)\n",
      "7. feature 5 (0.009769)\n",
      "8. feature 8 (0.008427)\n",
      "9. feature 7 (0.007127)\n",
      "10. feature 24 (0.006082)\n"
     ]
    }
   ],
   "source": [
    "importances = fitted_model.named_steps['classifier'].feature_importances_\n",
    "indices = np.argsort(importances)[::-1]\n",
    "\n",
    "# Print the feature ranking\n",
    "print(\"Feature ranking:\")\n",
    "\n",
    "for f in range(0,top_n_features):\n",
    "    print(\"%d. feature %d (%f)\" % (f + 1, indices[f], importances[indices[f]]))"
   ]
  },
  {
   "cell_type": "code",
   "execution_count": 27,
   "metadata": {},
   "outputs": [],
   "source": [
    "import matplotlib.pyplot as plt"
   ]
  },
  {
   "cell_type": "code",
   "execution_count": 28,
   "metadata": {},
   "outputs": [
    {
     "data": {
      "image/png": "[encoded data removed]",
      "text/plain": [
       "<Figure size 432x288 with 1 Axes>"
      ]
     },
     "metadata": {
      "needs_background": "light"
     },
     "output_type": "display_data"
    }
   ],
   "source": [
    "plt.figure()\n",
    "plt.bar(range(0,top_n_features), importances[indices][0:top_n_features],\n",
    "       color=\"r\", align=\"center\")\n",
    "plt.xticks(range(0,top_n_features), indices)\n",
    "plt.xlim([-1, top_n_features])\n",
    "plt.show()"
   ]
  },
  {
   "cell_type": "markdown",
   "metadata": {},
   "source": [
    "**Classification Report**"
   ]
  },
  {
   "cell_type": "code",
   "execution_count": 29,
   "metadata": {},
   "outputs": [],
   "source": [
    "from sklearn.metrics import classification_report"
   ]
  },
  {
   "cell_type": "markdown",
   "metadata": {},
   "source": [
    "Training Set"
   ]
  },
  {
   "cell_type": "code",
   "execution_count": 30,
   "metadata": {},
   "outputs": [
    {
     "name": "stdout",
     "output_type": "stream",
     "text": [
      "              precision    recall  f1-score   support\n",
      "\n",
      "       False       0.95      0.17      0.29     50071\n",
      "        True       0.79      1.00      0.88    155722\n",
      "\n",
      "   micro avg       0.80      0.80      0.80    205793\n",
      "   macro avg       0.87      0.58      0.59    205793\n",
      "weighted avg       0.83      0.80      0.74    205793\n",
      "\n"
     ]
    }
   ],
   "source": [
    "print(classification_report(y_true= train_data[target],\n",
    "                      y_pred = train_predictions))"
   ]
  },
  {
   "cell_type": "markdown",
   "metadata": {},
   "source": [
    "Validation Set"
   ]
  },
  {
   "cell_type": "code",
   "execution_count": 31,
   "metadata": {},
   "outputs": [
    {
     "name": "stdout",
     "output_type": "stream",
     "text": [
      "              precision    recall  f1-score   support\n",
      "\n",
      "       False       0.53      0.06      0.11     16597\n",
      "        True       0.77      0.98      0.86     52001\n",
      "\n",
      "   micro avg       0.76      0.76      0.76     68598\n",
      "   macro avg       0.65      0.52      0.48     68598\n",
      "weighted avg       0.71      0.76      0.68     68598\n",
      "\n"
     ]
    }
   ],
   "source": [
    "print(classification_report(y_true= valid_data[target],\n",
    "                      y_pred = valid_predictions))"
   ]
  },
  {
   "cell_type": "markdown",
   "metadata": {},
   "source": [
    "**Confusion Matrix**"
   ]
  },
  {
   "cell_type": "code",
   "execution_count": 32,
   "metadata": {},
   "outputs": [],
   "source": [
    "from sklearn.metrics import confusion_matrix"
   ]
  },
  {
   "cell_type": "code",
   "execution_count": 33,
   "metadata": {},
   "outputs": [
    {
     "data": {
      "text/plain": [
       "array([[  978, 15619],\n",
       "       [  859, 51142]], dtype=int64)"
      ]
     },
     "execution_count": 33,
     "metadata": {},
     "output_type": "execute_result"
    }
   ],
   "source": [
    "confusion_matrix(y_true = valid_data[target],\n",
    "                 y_pred = valid_predictions)"
   ]
  },
  {
   "cell_type": "markdown",
   "metadata": {},
   "source": [
    "**ROC**"
   ]
  },
  {
   "cell_type": "code",
   "execution_count": 34,
   "metadata": {},
   "outputs": [],
   "source": [
    "from sklearn.metrics import roc_auc_score, roc_curve"
   ]
  },
  {
   "cell_type": "code",
   "execution_count": 35,
   "metadata": {},
   "outputs": [
    {
     "data": {
      "text/plain": [
       "0.6822515070746533"
      ]
     },
     "execution_count": 35,
     "metadata": {},
     "output_type": "execute_result"
    }
   ],
   "source": [
    "roc_auc_score(y_true= valid_data[target],\n",
    "              y_score = valid_scores[:,index_positive])"
   ]
  },
  {
   "cell_type": "code",
   "execution_count": 36,
   "metadata": {},
   "outputs": [],
   "source": [
    "fpr, tpr, thresholds = roc_curve(y_true= valid_data[target], y_score=valid_scores[:,index_positive])"
   ]
  },
  {
   "cell_type": "code",
   "execution_count": 37,
   "metadata": {},
   "outputs": [
    {
     "data": {
      "text/plain": [
       "[<matplotlib.lines.Line2D at 0x24404556240>]"
      ]
     },
     "execution_count": 37,
     "metadata": {},
     "output_type": "execute_result"
    },
    {
     "data": {
      "image/png": "[encoded data removed]",
      "text/plain": [
       "<Figure size 432x288 with 1 Axes>"
      ]
     },
     "metadata": {
      "needs_background": "light"
     },
     "output_type": "display_data"
    }
   ],
   "source": [
    "plt.plot(fpr, tpr, 'ro')"
   ]
  },
  {
   "cell_type": "markdown",
   "metadata": {},
   "source": [
    "**Example Predictions**"
   ]
  },
  {
   "cell_type": "code",
   "execution_count": 38,
   "metadata": {},
   "outputs": [],
   "source": [
    "valid_data_predictions = valid_data.assign(scores = pd.Series(valid_scores[:,index_positive]).values)"
   ]
  },
  {
   "cell_type": "code",
   "execution_count": 39,
   "metadata": {},
   "outputs": [],
   "source": [
    "high_predictions = valid_data_predictions[valid_data_predictions.scores > 0.98]"
   ]
  },
  {
   "cell_type": "code",
   "execution_count": 40,
   "metadata": {},
   "outputs": [
    {
     "data": {
      "text/html": [
       "<div>\n",
       "<style scoped>\n",
       "    .dataframe tbody tr th:only-of-type {\n",
       "        vertical-align: middle;\n",
       "    }\n",
       "\n",
       "    .dataframe tbody tr th {\n",
       "        vertical-align: top;\n",
       "    }\n",
       "\n",
       "    .dataframe thead th {\n",
       "        text-align: right;\n",
       "    }\n",
       "</style>\n",
       "<table border=\"1\" class=\"dataframe\">\n",
       "  <thead>\n",
       "    <tr style=\"text-align: right;\">\n",
       "      <th></th>\n",
       "      <th>id</th>\n",
       "      <th>member_id</th>\n",
       "      <th>loan_amnt</th>\n",
       "      <th>funded_amnt</th>\n",
       "      <th>funded_amnt_inv</th>\n",
       "      <th>term</th>\n",
       "      <th>int_rate</th>\n",
       "      <th>installment</th>\n",
       "      <th>grade</th>\n",
       "      <th>sub_grade</th>\n",
       "      <th>...</th>\n",
       "      <th>open_rv_12m</th>\n",
       "      <th>open_rv_24m</th>\n",
       "      <th>max_bal_bc</th>\n",
       "      <th>all_util</th>\n",
       "      <th>total_rev_hi_lim</th>\n",
       "      <th>inq_fi</th>\n",
       "      <th>total_cu_tl</th>\n",
       "      <th>inq_last_12m</th>\n",
       "      <th>good_loan</th>\n",
       "      <th>scores</th>\n",
       "    </tr>\n",
       "  </thead>\n",
       "  <tbody>\n",
       "    <tr>\n",
       "      <th>226546</th>\n",
       "      <td>1118570</td>\n",
       "      <td>1356039</td>\n",
       "      <td>4150.0</td>\n",
       "      <td>4150.0</td>\n",
       "      <td>4150.0</td>\n",
       "      <td>36 months</td>\n",
       "      <td>7.51</td>\n",
       "      <td>129.11</td>\n",
       "      <td>A</td>\n",
       "      <td>A3</td>\n",
       "      <td>...</td>\n",
       "      <td>NaN</td>\n",
       "      <td>NaN</td>\n",
       "      <td>NaN</td>\n",
       "      <td>NaN</td>\n",
       "      <td>NaN</td>\n",
       "      <td>NaN</td>\n",
       "      <td>NaN</td>\n",
       "      <td>NaN</td>\n",
       "      <td>True</td>\n",
       "      <td>0.983156</td>\n",
       "    </tr>\n",
       "    <tr>\n",
       "      <th>345418</th>\n",
       "      <td>21360160</td>\n",
       "      <td>23673067</td>\n",
       "      <td>2000.0</td>\n",
       "      <td>2000.0</td>\n",
       "      <td>2000.0</td>\n",
       "      <td>36 months</td>\n",
       "      <td>7.69</td>\n",
       "      <td>62.39</td>\n",
       "      <td>A</td>\n",
       "      <td>A4</td>\n",
       "      <td>...</td>\n",
       "      <td>NaN</td>\n",
       "      <td>NaN</td>\n",
       "      <td>NaN</td>\n",
       "      <td>NaN</td>\n",
       "      <td>97500.0</td>\n",
       "      <td>NaN</td>\n",
       "      <td>NaN</td>\n",
       "      <td>NaN</td>\n",
       "      <td>True</td>\n",
       "      <td>0.982720</td>\n",
       "    </tr>\n",
       "    <tr>\n",
       "      <th>234426</th>\n",
       "      <td>37167359</td>\n",
       "      <td>39940113</td>\n",
       "      <td>6000.0</td>\n",
       "      <td>6000.0</td>\n",
       "      <td>6000.0</td>\n",
       "      <td>36 months</td>\n",
       "      <td>6.49</td>\n",
       "      <td>183.87</td>\n",
       "      <td>A</td>\n",
       "      <td>A2</td>\n",
       "      <td>...</td>\n",
       "      <td>NaN</td>\n",
       "      <td>NaN</td>\n",
       "      <td>NaN</td>\n",
       "      <td>NaN</td>\n",
       "      <td>63800.0</td>\n",
       "      <td>NaN</td>\n",
       "      <td>NaN</td>\n",
       "      <td>NaN</td>\n",
       "      <td>True</td>\n",
       "      <td>0.983800</td>\n",
       "    </tr>\n",
       "    <tr>\n",
       "      <th>166676</th>\n",
       "      <td>3300520</td>\n",
       "      <td>4073310</td>\n",
       "      <td>3475.0</td>\n",
       "      <td>3475.0</td>\n",
       "      <td>3475.0</td>\n",
       "      <td>36 months</td>\n",
       "      <td>6.62</td>\n",
       "      <td>106.70</td>\n",
       "      <td>A</td>\n",
       "      <td>A2</td>\n",
       "      <td>...</td>\n",
       "      <td>NaN</td>\n",
       "      <td>NaN</td>\n",
       "      <td>NaN</td>\n",
       "      <td>NaN</td>\n",
       "      <td>162000.0</td>\n",
       "      <td>NaN</td>\n",
       "      <td>NaN</td>\n",
       "      <td>NaN</td>\n",
       "      <td>True</td>\n",
       "      <td>0.981028</td>\n",
       "    </tr>\n",
       "    <tr>\n",
       "      <th>212251</th>\n",
       "      <td>1351884</td>\n",
       "      <td>1596045</td>\n",
       "      <td>2725.0</td>\n",
       "      <td>2725.0</td>\n",
       "      <td>2725.0</td>\n",
       "      <td>36 months</td>\n",
       "      <td>6.03</td>\n",
       "      <td>82.94</td>\n",
       "      <td>A</td>\n",
       "      <td>A1</td>\n",
       "      <td>...</td>\n",
       "      <td>NaN</td>\n",
       "      <td>NaN</td>\n",
       "      <td>NaN</td>\n",
       "      <td>NaN</td>\n",
       "      <td>NaN</td>\n",
       "      <td>NaN</td>\n",
       "      <td>NaN</td>\n",
       "      <td>NaN</td>\n",
       "      <td>True</td>\n",
       "      <td>0.980865</td>\n",
       "    </tr>\n",
       "  </tbody>\n",
       "</table>\n",
       "<p>5 rows × 76 columns</p>\n",
       "</div>"
      ],
      "text/plain": [
       "              id  member_id  loan_amnt  funded_amnt  funded_amnt_inv  \\\n",
       "226546   1118570    1356039     4150.0       4150.0           4150.0   \n",
       "345418  21360160   23673067     2000.0       2000.0           2000.0   \n",
       "234426  37167359   39940113     6000.0       6000.0           6000.0   \n",
       "166676   3300520    4073310     3475.0       3475.0           3475.0   \n",
       "212251   1351884    1596045     2725.0       2725.0           2725.0   \n",
       "\n",
       "              term  int_rate  installment grade sub_grade    ...     \\\n",
       "226546   36 months      7.51       129.11     A        A3    ...      \n",
       "345418   36 months      7.69        62.39     A        A4    ...      \n",
       "234426   36 months      6.49       183.87     A        A2    ...      \n",
       "166676   36 months      6.62       106.70     A        A2    ...      \n",
       "212251   36 months      6.03        82.94     A        A1    ...      \n",
       "\n",
       "       open_rv_12m open_rv_24m max_bal_bc  all_util total_rev_hi_lim inq_fi  \\\n",
       "226546         NaN         NaN        NaN       NaN              NaN    NaN   \n",
       "345418         NaN         NaN        NaN       NaN          97500.0    NaN   \n",
       "234426         NaN         NaN        NaN       NaN          63800.0    NaN   \n",
       "166676         NaN         NaN        NaN       NaN         162000.0    NaN   \n",
       "212251         NaN         NaN        NaN       NaN              NaN    NaN   \n",
       "\n",
       "       total_cu_tl inq_last_12m good_loan    scores  \n",
       "226546         NaN          NaN      True  0.983156  \n",
       "345418         NaN          NaN      True  0.982720  \n",
       "234426         NaN          NaN      True  0.983800  \n",
       "166676         NaN          NaN      True  0.981028  \n",
       "212251         NaN          NaN      True  0.980865  \n",
       "\n",
       "[5 rows x 76 columns]"
      ]
     },
     "execution_count": 40,
     "metadata": {},
     "output_type": "execute_result"
    }
   ],
   "source": [
    "high_predictions.head(20)"
   ]
  },
  {
   "cell_type": "code",
   "execution_count": 41,
   "metadata": {},
   "outputs": [],
   "source": [
    "low_predictions = valid_data_predictions[valid_data_predictions.scores < 0.3]"
   ]
  },
  {
   "cell_type": "code",
   "execution_count": 42,
   "metadata": {},
   "outputs": [
    {
     "data": {
      "text/html": [
       "<div>\n",
       "<style scoped>\n",
       "    .dataframe tbody tr th:only-of-type {\n",
       "        vertical-align: middle;\n",
       "    }\n",
       "\n",
       "    .dataframe tbody tr th {\n",
       "        vertical-align: top;\n",
       "    }\n",
       "\n",
       "    .dataframe thead th {\n",
       "        text-align: right;\n",
       "    }\n",
       "</style>\n",
       "<table border=\"1\" class=\"dataframe\">\n",
       "  <thead>\n",
       "    <tr style=\"text-align: right;\">\n",
       "      <th></th>\n",
       "      <th>id</th>\n",
       "      <th>member_id</th>\n",
       "      <th>loan_amnt</th>\n",
       "      <th>funded_amnt</th>\n",
       "      <th>funded_amnt_inv</th>\n",
       "      <th>term</th>\n",
       "      <th>int_rate</th>\n",
       "      <th>installment</th>\n",
       "      <th>grade</th>\n",
       "      <th>sub_grade</th>\n",
       "      <th>...</th>\n",
       "      <th>open_rv_12m</th>\n",
       "      <th>open_rv_24m</th>\n",
       "      <th>max_bal_bc</th>\n",
       "      <th>all_util</th>\n",
       "      <th>total_rev_hi_lim</th>\n",
       "      <th>inq_fi</th>\n",
       "      <th>total_cu_tl</th>\n",
       "      <th>inq_last_12m</th>\n",
       "      <th>good_loan</th>\n",
       "      <th>scores</th>\n",
       "    </tr>\n",
       "  </thead>\n",
       "  <tbody>\n",
       "    <tr>\n",
       "      <th>793409</th>\n",
       "      <td>44865861</td>\n",
       "      <td>47943604</td>\n",
       "      <td>15100.0</td>\n",
       "      <td>15100.0</td>\n",
       "      <td>15100.0</td>\n",
       "      <td>60 months</td>\n",
       "      <td>25.80</td>\n",
       "      <td>450.32</td>\n",
       "      <td>G</td>\n",
       "      <td>G1</td>\n",
       "      <td>...</td>\n",
       "      <td>NaN</td>\n",
       "      <td>NaN</td>\n",
       "      <td>NaN</td>\n",
       "      <td>NaN</td>\n",
       "      <td>6700.0</td>\n",
       "      <td>NaN</td>\n",
       "      <td>NaN</td>\n",
       "      <td>NaN</td>\n",
       "      <td>True</td>\n",
       "      <td>0.275811</td>\n",
       "    </tr>\n",
       "    <tr>\n",
       "      <th>63860</th>\n",
       "      <td>8649404</td>\n",
       "      <td>10421174</td>\n",
       "      <td>13000.0</td>\n",
       "      <td>13000.0</td>\n",
       "      <td>12975.0</td>\n",
       "      <td>60 months</td>\n",
       "      <td>15.61</td>\n",
       "      <td>313.45</td>\n",
       "      <td>C</td>\n",
       "      <td>C3</td>\n",
       "      <td>...</td>\n",
       "      <td>NaN</td>\n",
       "      <td>NaN</td>\n",
       "      <td>NaN</td>\n",
       "      <td>NaN</td>\n",
       "      <td>30000.0</td>\n",
       "      <td>NaN</td>\n",
       "      <td>NaN</td>\n",
       "      <td>NaN</td>\n",
       "      <td>True</td>\n",
       "      <td>0.299948</td>\n",
       "    </tr>\n",
       "    <tr>\n",
       "      <th>445085</th>\n",
       "      <td>11724917</td>\n",
       "      <td>13697068</td>\n",
       "      <td>6750.0</td>\n",
       "      <td>6750.0</td>\n",
       "      <td>6750.0</td>\n",
       "      <td>36 months</td>\n",
       "      <td>22.40</td>\n",
       "      <td>259.19</td>\n",
       "      <td>E</td>\n",
       "      <td>E3</td>\n",
       "      <td>...</td>\n",
       "      <td>NaN</td>\n",
       "      <td>NaN</td>\n",
       "      <td>NaN</td>\n",
       "      <td>NaN</td>\n",
       "      <td>15900.0</td>\n",
       "      <td>NaN</td>\n",
       "      <td>NaN</td>\n",
       "      <td>NaN</td>\n",
       "      <td>False</td>\n",
       "      <td>0.262236</td>\n",
       "    </tr>\n",
       "    <tr>\n",
       "      <th>25745</th>\n",
       "      <td>581198</td>\n",
       "      <td>747071</td>\n",
       "      <td>14500.0</td>\n",
       "      <td>14500.0</td>\n",
       "      <td>14475.0</td>\n",
       "      <td>60 months</td>\n",
       "      <td>21.27</td>\n",
       "      <td>394.48</td>\n",
       "      <td>G</td>\n",
       "      <td>G4</td>\n",
       "      <td>...</td>\n",
       "      <td>NaN</td>\n",
       "      <td>NaN</td>\n",
       "      <td>NaN</td>\n",
       "      <td>NaN</td>\n",
       "      <td>NaN</td>\n",
       "      <td>NaN</td>\n",
       "      <td>NaN</td>\n",
       "      <td>NaN</td>\n",
       "      <td>False</td>\n",
       "      <td>0.290997</td>\n",
       "    </tr>\n",
       "    <tr>\n",
       "      <th>419251</th>\n",
       "      <td>13157586</td>\n",
       "      <td>15189771</td>\n",
       "      <td>10300.0</td>\n",
       "      <td>10300.0</td>\n",
       "      <td>10250.0</td>\n",
       "      <td>60 months</td>\n",
       "      <td>21.18</td>\n",
       "      <td>279.70</td>\n",
       "      <td>E</td>\n",
       "      <td>E3</td>\n",
       "      <td>...</td>\n",
       "      <td>NaN</td>\n",
       "      <td>NaN</td>\n",
       "      <td>NaN</td>\n",
       "      <td>NaN</td>\n",
       "      <td>24100.0</td>\n",
       "      <td>NaN</td>\n",
       "      <td>NaN</td>\n",
       "      <td>NaN</td>\n",
       "      <td>False</td>\n",
       "      <td>0.295699</td>\n",
       "    </tr>\n",
       "    <tr>\n",
       "      <th>590506</th>\n",
       "      <td>61038241</td>\n",
       "      <td>65136995</td>\n",
       "      <td>10000.0</td>\n",
       "      <td>10000.0</td>\n",
       "      <td>10000.0</td>\n",
       "      <td>60 months</td>\n",
       "      <td>19.99</td>\n",
       "      <td>264.89</td>\n",
       "      <td>E</td>\n",
       "      <td>E4</td>\n",
       "      <td>...</td>\n",
       "      <td>NaN</td>\n",
       "      <td>NaN</td>\n",
       "      <td>NaN</td>\n",
       "      <td>NaN</td>\n",
       "      <td>7300.0</td>\n",
       "      <td>NaN</td>\n",
       "      <td>NaN</td>\n",
       "      <td>NaN</td>\n",
       "      <td>False</td>\n",
       "      <td>0.288774</td>\n",
       "    </tr>\n",
       "    <tr>\n",
       "      <th>384137</th>\n",
       "      <td>16342957</td>\n",
       "      <td>18445374</td>\n",
       "      <td>15925.0</td>\n",
       "      <td>15925.0</td>\n",
       "      <td>15875.0</td>\n",
       "      <td>60 months</td>\n",
       "      <td>20.99</td>\n",
       "      <td>430.74</td>\n",
       "      <td>E</td>\n",
       "      <td>E4</td>\n",
       "      <td>...</td>\n",
       "      <td>NaN</td>\n",
       "      <td>NaN</td>\n",
       "      <td>NaN</td>\n",
       "      <td>NaN</td>\n",
       "      <td>24400.0</td>\n",
       "      <td>NaN</td>\n",
       "      <td>NaN</td>\n",
       "      <td>NaN</td>\n",
       "      <td>True</td>\n",
       "      <td>0.294039</td>\n",
       "    </tr>\n",
       "    <tr>\n",
       "      <th>270077</th>\n",
       "      <td>32419014</td>\n",
       "      <td>35032246</td>\n",
       "      <td>4825.0</td>\n",
       "      <td>4825.0</td>\n",
       "      <td>4825.0</td>\n",
       "      <td>36 months</td>\n",
       "      <td>24.50</td>\n",
       "      <td>190.57</td>\n",
       "      <td>F</td>\n",
       "      <td>F3</td>\n",
       "      <td>...</td>\n",
       "      <td>NaN</td>\n",
       "      <td>NaN</td>\n",
       "      <td>NaN</td>\n",
       "      <td>NaN</td>\n",
       "      <td>7500.0</td>\n",
       "      <td>NaN</td>\n",
       "      <td>NaN</td>\n",
       "      <td>NaN</td>\n",
       "      <td>True</td>\n",
       "      <td>0.230350</td>\n",
       "    </tr>\n",
       "    <tr>\n",
       "      <th>448620</th>\n",
       "      <td>11396511</td>\n",
       "      <td>13318706</td>\n",
       "      <td>5500.0</td>\n",
       "      <td>5500.0</td>\n",
       "      <td>5500.0</td>\n",
       "      <td>36 months</td>\n",
       "      <td>23.40</td>\n",
       "      <td>214.06</td>\n",
       "      <td>E</td>\n",
       "      <td>E5</td>\n",
       "      <td>...</td>\n",
       "      <td>NaN</td>\n",
       "      <td>NaN</td>\n",
       "      <td>NaN</td>\n",
       "      <td>NaN</td>\n",
       "      <td>9900.0</td>\n",
       "      <td>NaN</td>\n",
       "      <td>NaN</td>\n",
       "      <td>NaN</td>\n",
       "      <td>False</td>\n",
       "      <td>0.210644</td>\n",
       "    </tr>\n",
       "    <tr>\n",
       "      <th>646088</th>\n",
       "      <td>57832113</td>\n",
       "      <td>61584825</td>\n",
       "      <td>18000.0</td>\n",
       "      <td>18000.0</td>\n",
       "      <td>18000.0</td>\n",
       "      <td>60 months</td>\n",
       "      <td>24.99</td>\n",
       "      <td>528.22</td>\n",
       "      <td>F</td>\n",
       "      <td>F4</td>\n",
       "      <td>...</td>\n",
       "      <td>NaN</td>\n",
       "      <td>NaN</td>\n",
       "      <td>NaN</td>\n",
       "      <td>NaN</td>\n",
       "      <td>20800.0</td>\n",
       "      <td>NaN</td>\n",
       "      <td>NaN</td>\n",
       "      <td>NaN</td>\n",
       "      <td>False</td>\n",
       "      <td>0.278472</td>\n",
       "    </tr>\n",
       "    <tr>\n",
       "      <th>728255</th>\n",
       "      <td>50779587</td>\n",
       "      <td>54159308</td>\n",
       "      <td>11725.0</td>\n",
       "      <td>11725.0</td>\n",
       "      <td>11725.0</td>\n",
       "      <td>60 months</td>\n",
       "      <td>18.25</td>\n",
       "      <td>299.34</td>\n",
       "      <td>E</td>\n",
       "      <td>E1</td>\n",
       "      <td>...</td>\n",
       "      <td>NaN</td>\n",
       "      <td>NaN</td>\n",
       "      <td>NaN</td>\n",
       "      <td>NaN</td>\n",
       "      <td>11200.0</td>\n",
       "      <td>NaN</td>\n",
       "      <td>NaN</td>\n",
       "      <td>NaN</td>\n",
       "      <td>False</td>\n",
       "      <td>0.212587</td>\n",
       "    </tr>\n",
       "  </tbody>\n",
       "</table>\n",
       "<p>11 rows × 76 columns</p>\n",
       "</div>"
      ],
      "text/plain": [
       "              id  member_id  loan_amnt  funded_amnt  funded_amnt_inv  \\\n",
       "793409  44865861   47943604    15100.0      15100.0          15100.0   \n",
       "63860    8649404   10421174    13000.0      13000.0          12975.0   \n",
       "445085  11724917   13697068     6750.0       6750.0           6750.0   \n",
       "25745     581198     747071    14500.0      14500.0          14475.0   \n",
       "419251  13157586   15189771    10300.0      10300.0          10250.0   \n",
       "590506  61038241   65136995    10000.0      10000.0          10000.0   \n",
       "384137  16342957   18445374    15925.0      15925.0          15875.0   \n",
       "270077  32419014   35032246     4825.0       4825.0           4825.0   \n",
       "448620  11396511   13318706     5500.0       5500.0           5500.0   \n",
       "646088  57832113   61584825    18000.0      18000.0          18000.0   \n",
       "728255  50779587   54159308    11725.0      11725.0          11725.0   \n",
       "\n",
       "              term  int_rate  installment grade sub_grade    ...     \\\n",
       "793409   60 months     25.80       450.32     G        G1    ...      \n",
       "63860    60 months     15.61       313.45     C        C3    ...      \n",
       "445085   36 months     22.40       259.19     E        E3    ...      \n",
       "25745    60 months     21.27       394.48     G        G4    ...      \n",
       "419251   60 months     21.18       279.70     E        E3    ...      \n",
       "590506   60 months     19.99       264.89     E        E4    ...      \n",
       "384137   60 months     20.99       430.74     E        E4    ...      \n",
       "270077   36 months     24.50       190.57     F        F3    ...      \n",
       "448620   36 months     23.40       214.06     E        E5    ...      \n",
       "646088   60 months     24.99       528.22     F        F4    ...      \n",
       "728255   60 months     18.25       299.34     E        E1    ...      \n",
       "\n",
       "       open_rv_12m open_rv_24m max_bal_bc  all_util total_rev_hi_lim inq_fi  \\\n",
       "793409         NaN         NaN        NaN       NaN           6700.0    NaN   \n",
       "63860          NaN         NaN        NaN       NaN          30000.0    NaN   \n",
       "445085         NaN         NaN        NaN       NaN          15900.0    NaN   \n",
       "25745          NaN         NaN        NaN       NaN              NaN    NaN   \n",
       "419251         NaN         NaN        NaN       NaN          24100.0    NaN   \n",
       "590506         NaN         NaN        NaN       NaN           7300.0    NaN   \n",
       "384137         NaN         NaN        NaN       NaN          24400.0    NaN   \n",
       "270077         NaN         NaN        NaN       NaN           7500.0    NaN   \n",
       "448620         NaN         NaN        NaN       NaN           9900.0    NaN   \n",
       "646088         NaN         NaN        NaN       NaN          20800.0    NaN   \n",
       "728255         NaN         NaN        NaN       NaN          11200.0    NaN   \n",
       "\n",
       "       total_cu_tl inq_last_12m good_loan    scores  \n",
       "793409         NaN          NaN      True  0.275811  \n",
       "63860          NaN          NaN      True  0.299948  \n",
       "445085         NaN          NaN     False  0.262236  \n",
       "25745          NaN          NaN     False  0.290997  \n",
       "419251         NaN          NaN     False  0.295699  \n",
       "590506         NaN          NaN     False  0.288774  \n",
       "384137         NaN          NaN      True  0.294039  \n",
       "270077         NaN          NaN      True  0.230350  \n",
       "448620         NaN          NaN     False  0.210644  \n",
       "646088         NaN          NaN     False  0.278472  \n",
       "728255         NaN          NaN     False  0.212587  \n",
       "\n",
       "[11 rows x 76 columns]"
      ]
     },
     "execution_count": 42,
     "metadata": {},
     "output_type": "execute_result"
    }
   ],
   "source": [
    "low_predictions.head(20)"
   ]
  }
 ],
 "metadata": {
  "kernelspec": {
   "display_name": "Python 3",
   "language": "python",
   "name": "python3"
  },
  "language_info": {
   "codemirror_mode": {
    "name": "ipython",
    "version": 3
   },
   "file_extension": ".py",
   "mimetype": "text/x-python",
   "name": "python",
   "nbconvert_exporter": "python",
   "pygments_lexer": "ipython3",
   "version": "3.7.1"
  }
 },
 "nbformat": 4,
 "nbformat_minor": 2
}
