{
 "cells": [
  {
   "cell_type": "markdown",
   "metadata": {},
   "source": [
    "## Read Data"
   ]
  },
  {
   "cell_type": "code",
   "execution_count": 478,
   "metadata": {},
   "outputs": [],
   "source": [
    "import pandas as pd"
   ]
  },
  {
   "cell_type": "markdown",
   "metadata": {},
   "source": [
    "there file was downloaded from https://www.kaggle.com/wendykan/lending-club-loan-data "
   ]
  },
  {
   "cell_type": "code",
   "execution_count": 479,
   "metadata": {},
   "outputs": [],
   "source": [
    "kaggle_data = pd.read_csv(\"C:/Users/jange/OneDrive/Dokumente/ML_Pipeline_Loan/loan.csv\", low_memory = False)"
   ]
  },
  {
   "cell_type": "markdown",
   "metadata": {},
   "source": [
    "## Preliminary Transformations (don't need to be run in prediction)"
   ]
  },
  {
   "cell_type": "markdown",
   "metadata": {},
   "source": [
    "Filter Loans (don't use current loans)"
   ]
  },
  {
   "cell_type": "code",
   "execution_count": 480,
   "metadata": {},
   "outputs": [],
   "source": [
    "kagge_data = kaggle_data[~kaggle_data.loan_status.isin([\"Current\", \"Does not meet the credit policy. Status:Charged Off\",\n",
    "                                                       \"Does not meet the credit policy. Status:Fully Paid\", \"Issued\"])]"
   ]
  },
  {
   "cell_type": "markdown",
   "metadata": {},
   "source": [
    "Create target variable"
   ]
  },
  {
   "cell_type": "code",
   "execution_count": 481,
   "metadata": {},
   "outputs": [],
   "source": [
    "kaggle_data = kagge_data.assign(good_loan = pd.Series(kagge_data.loan_status == \"Fully Paid\"))"
   ]
  },
  {
   "cell_type": "markdown",
   "metadata": {},
   "source": [
    "## Split Data into Training und Validation Set"
   ]
  },
  {
   "cell_type": "code",
   "execution_count": 482,
   "metadata": {},
   "outputs": [],
   "source": [
    "from sklearn.model_selection import train_test_split"
   ]
  },
  {
   "cell_type": "code",
   "execution_count": 483,
   "metadata": {},
   "outputs": [],
   "source": [
    "train_data, valid_data = train_test_split(kaggle_data,\n",
    "                                           test_size = 0.25,\n",
    "                                           random_state = 111)"
   ]
  },
  {
   "cell_type": "markdown",
   "metadata": {},
   "source": [
    "## Define Target and Features "
   ]
  },
  {
   "cell_type": "code",
   "execution_count": 484,
   "metadata": {},
   "outputs": [],
   "source": [
    "target = \"good_loan\"\n",
    "cat_features = ['home_ownership', 'purpose', 'addr_state']\n",
    "num_features = ['loan_amnt', 'installment', 'annual_inc', 'int_rate', 'emp_length']\n",
    "features = cat_features + num_features"
   ]
  },
  {
   "cell_type": "code",
   "execution_count": 485,
   "metadata": {},
   "outputs": [],
   "source": [
    "positive_class = True"
   ]
  },
  {
   "cell_type": "markdown",
   "metadata": {},
   "source": [
    "Data Types"
   ]
  },
  {
   "cell_type": "code",
   "execution_count": 524,
   "metadata": {},
   "outputs": [
    {
     "data": {
      "text/plain": [
       "home_ownership     object\n",
       "purpose            object\n",
       "addr_state         object\n",
       "loan_amnt         float64\n",
       "installment       float64\n",
       "annual_inc        float64\n",
       "int_rate          float64\n",
       "emp_length         object\n",
       "dtype: object"
      ]
     },
     "execution_count": 524,
     "metadata": {},
     "output_type": "execute_result"
    }
   ],
   "source": [
    "kaggle_data[features].dtypes"
   ]
  },
  {
   "cell_type": "markdown",
   "metadata": {},
   "source": [
    "## Define Preprocessing"
   ]
  },
  {
   "cell_type": "code",
   "execution_count": 488,
   "metadata": {},
   "outputs": [],
   "source": [
    "import numpy as np\n",
    "from sklearn.base import BaseEstimator, TransformerMixin\n",
    "from sklearn.impute import SimpleImputer\n",
    "from sklearn.preprocessing import OneHotEncoder\n",
    "from sklearn.pipeline import Pipeline\n",
    "from sklearn.compose import ColumnTransformer"
   ]
  },
  {
   "cell_type": "markdown",
   "metadata": {},
   "source": [
    "**Create Derived Features**"
   ]
  },
  {
   "cell_type": "code",
   "execution_count": 489,
   "metadata": {},
   "outputs": [],
   "source": [
    "import re"
   ]
  },
  {
   "cell_type": "code",
   "execution_count": 529,
   "metadata": {},
   "outputs": [
    {
     "ename": "IndentationError",
     "evalue": "expected an indented block (<ipython-input-529-960d1dd9e87e>, line 16)",
     "output_type": "error",
     "traceback": [
      "\u001b[1;36m  File \u001b[1;32m\"<ipython-input-529-960d1dd9e87e>\"\u001b[1;36m, line \u001b[1;32m16\u001b[0m\n\u001b[1;33m    if (type(string) == float):\u001b[0m\n\u001b[1;37m     ^\u001b[0m\n\u001b[1;31mIndentationError\u001b[0m\u001b[1;31m:\u001b[0m expected an indented block\n"
     ]
    }
   ],
   "source": [
    "class CreateDerivedFeatures(TransformerMixin, BaseEstimator):\n",
    "    def __init__(self):\n",
    "        self\n",
    "\n",
    "    def fit(self, X, *_):\n",
    "        return self\n",
    "        \n",
    "    def transform(self, X, *_):\n",
    "        X_transformed = X.assign(loan_income_ratio = pd.Series(X.loan_amnt / X.annual_inc),\n",
    "                                 interest_income_ratio = pd.Series((X.loan_amnt * 0.01 * X.int_rate)/ X.annual_inc),\n",
    "                                 emp_length = pd.Series(X.emp_length.apply(emp_length_num)))\n",
    "       \n",
    "        return X_transformed\n",
    "    \n",
    "    def find_number(string):\n",
    "        if (type(string) == float):\n",
    "            first_number = float('NaN')\n",
    "        else:\n",
    "            first_number = int(re.findall(pattern = '(\\d+)', string = string)[0])\n",
    "        return first_number\n",
    "\n",
    "    def emp_length_num(string):\n",
    "        if (string == '< 1 year'):\n",
    "        emp_length = 0\n",
    "    else:\n",
    "        emp_length = find_number(string)\n",
    "    return emp_length\n"
   ]
  },
  {
   "cell_type": "code",
   "execution_count": 493,
   "metadata": {},
   "outputs": [],
   "source": [
    "derive_step =('derive', CreateDerivedFeatures())\n",
    "derive_features = Pipeline([derive_step])"
   ]
  },
  {
   "cell_type": "markdown",
   "metadata": {},
   "source": [
    "**Categorical Features**"
   ]
  },
  {
   "cell_type": "code",
   "execution_count": 494,
   "metadata": {},
   "outputs": [],
   "source": [
    "si_step_cat = ('si_cat', SimpleImputer(strategy = 'constant',\n",
    "                                   fill_value= 'missing_value'))\n",
    "ohe_step_cat = ('ohe_cat', OneHotEncoder(handle_unknown='ignore',\n",
    "                                     sparse = False))\n",
    "\n",
    "pipe_cat = Pipeline([si_step_cat, ohe_step_cat])"
   ]
  },
  {
   "cell_type": "markdown",
   "metadata": {},
   "source": [
    "**Numerical Features**"
   ]
  },
  {
   "cell_type": "code",
   "execution_count": 495,
   "metadata": {},
   "outputs": [],
   "source": [
    "si_step_num = ('si_num', SimpleImputer(strategy='constant',\n",
    "                                       fill_value = -999))\n",
    "pipe_num = Pipeline([si_step_num])"
   ]
  },
  {
   "cell_type": "markdown",
   "metadata": {},
   "source": [
    "**Preprocessing**"
   ]
  },
  {
   "cell_type": "code",
   "execution_count": 496,
   "metadata": {},
   "outputs": [],
   "source": [
    "from sklearn.compose import ColumnTransformer"
   ]
  },
  {
   "cell_type": "code",
   "execution_count": 497,
   "metadata": {},
   "outputs": [],
   "source": [
    "preprocessor = ColumnTransformer(\n",
    "    transformers = [\n",
    "        ('cat', pipe_cat, cat_features),\n",
    "        ('num', pipe_num, num_features)\n",
    "    ])"
   ]
  },
  {
   "cell_type": "markdown",
   "metadata": {},
   "source": [
    "## Define Classification Model"
   ]
  },
  {
   "cell_type": "code",
   "execution_count": 498,
   "metadata": {},
   "outputs": [],
   "source": [
    "from sklearn.ensemble import RandomForestClassifier as rf"
   ]
  },
  {
   "cell_type": "code",
   "execution_count": 499,
   "metadata": {},
   "outputs": [],
   "source": [
    "classifier = rf(n_estimators = 20, max_depth = 20)"
   ]
  },
  {
   "cell_type": "markdown",
   "metadata": {},
   "source": [
    "## Combine Preprocessing and Classification into Pipeline"
   ]
  },
  {
   "cell_type": "code",
   "execution_count": 500,
   "metadata": {},
   "outputs": [],
   "source": [
    "preprocessor_classifier = Pipeline([\n",
    "    ('derive_features', derive_features),\n",
    "    ('preprocessor', preprocessor),\n",
    "    ('classifier', classifier)\n",
    "])"
   ]
  },
  {
   "cell_type": "markdown",
   "metadata": {},
   "source": [
    "## Training Modell"
   ]
  },
  {
   "cell_type": "code",
   "execution_count": 501,
   "metadata": {},
   "outputs": [],
   "source": [
    "fitted_model = preprocessor_classifier.fit(X = train_data[features], y = train_data[target])"
   ]
  },
  {
   "cell_type": "markdown",
   "metadata": {},
   "source": [
    "## Predictions Modell"
   ]
  },
  {
   "cell_type": "code",
   "execution_count": 502,
   "metadata": {},
   "outputs": [],
   "source": [
    "train_scores = fitted_model.predict_proba(X = train_data)\n",
    "train_predictions = fitted_model.predict(X = train_data)\n",
    "valid_scores = fitted_model.predict_proba(X = valid_data)\n",
    "valid_predictions = fitted_model.predict(X = valid_data)"
   ]
  },
  {
   "cell_type": "markdown",
   "metadata": {},
   "source": [
    "## Evaluation Modell"
   ]
  },
  {
   "cell_type": "markdown",
   "metadata": {},
   "source": [
    "**Classifier with Parameters**"
   ]
  },
  {
   "cell_type": "code",
   "execution_count": 503,
   "metadata": {},
   "outputs": [
    {
     "data": {
      "text/plain": [
       "RandomForestClassifier(bootstrap=True, class_weight=None, criterion='gini',\n",
       "            max_depth=20, max_features='auto', max_leaf_nodes=None,\n",
       "            min_impurity_decrease=0.0, min_impurity_split=None,\n",
       "            min_samples_leaf=1, min_samples_split=2,\n",
       "            min_weight_fraction_leaf=0.0, n_estimators=20, n_jobs=None,\n",
       "            oob_score=False, random_state=None, verbose=0,\n",
       "            warm_start=False)"
      ]
     },
     "execution_count": 503,
     "metadata": {},
     "output_type": "execute_result"
    }
   ],
   "source": [
    "classifier"
   ]
  },
  {
   "cell_type": "code",
   "execution_count": 504,
   "metadata": {},
   "outputs": [],
   "source": [
    "index_positive = np.min(np.where(classifier.classes_ == positive_class))"
   ]
  },
  {
   "cell_type": "markdown",
   "metadata": {},
   "source": [
    "**Feature Importance**"
   ]
  },
  {
   "cell_type": "markdown",
   "metadata": {},
   "source": [
    "Here I would like to see the names of the features"
   ]
  },
  {
   "cell_type": "code",
   "execution_count": 387,
   "metadata": {},
   "outputs": [],
   "source": [
    "top_n_features = 10"
   ]
  },
  {
   "cell_type": "code",
   "execution_count": 505,
   "metadata": {},
   "outputs": [
    {
     "name": "stdout",
     "output_type": "stream",
     "text": [
      "Feature ranking:\n",
      "1. feature 74 (0.317701)\n",
      "2. feature 73 (0.152397)\n",
      "3. feature 72 (0.148530)\n",
      "4. feature 71 (0.127778)\n",
      "5. feature 75 (0.073850)\n",
      "6. feature 1 (0.011436)\n",
      "7. feature 5 (0.009585)\n",
      "8. feature 8 (0.008469)\n",
      "9. feature 7 (0.007044)\n",
      "10. feature 4 (0.006292)\n"
     ]
    }
   ],
   "source": [
    "importances = fitted_model.named_steps['classifier'].feature_importances_\n",
    "indices = np.argsort(importances)[::-1]\n",
    "\n",
    "# Print the feature ranking\n",
    "print(\"Feature ranking:\")\n",
    "\n",
    "for f in range(0,top_n_features):\n",
    "    print(\"%d. feature %d (%f)\" % (f + 1, indices[f], importances[indices[f]]))"
   ]
  },
  {
   "cell_type": "code",
   "execution_count": 506,
   "metadata": {},
   "outputs": [
    {
     "data": {
      "image/png": "[encoded data removed]",
      "text/plain": [
       "<Figure size 432x288 with 1 Axes>"
      ]
     },
     "metadata": {
      "needs_background": "light"
     },
     "output_type": "display_data"
    }
   ],
   "source": [
    "plt.figure()\n",
    "plt.bar(range(0,top_n_features), importances[indices][0:top_n_features],\n",
    "       color=\"r\", align=\"center\")\n",
    "plt.xticks(range(0,top_n_features), indices)\n",
    "plt.xlim([-1, top_n_features])\n",
    "plt.show()"
   ]
  },
  {
   "cell_type": "markdown",
   "metadata": {},
   "source": [
    "**Classification Report**"
   ]
  },
  {
   "cell_type": "code",
   "execution_count": 147,
   "metadata": {},
   "outputs": [],
   "source": [
    "from sklearn.metrics import classification_report"
   ]
  },
  {
   "cell_type": "markdown",
   "metadata": {},
   "source": [
    "Training Set"
   ]
  },
  {
   "cell_type": "code",
   "execution_count": 507,
   "metadata": {},
   "outputs": [
    {
     "name": "stdout",
     "output_type": "stream",
     "text": [
      "              precision    recall  f1-score   support\n",
      "\n",
      "       False       0.95      0.17      0.28     50071\n",
      "        True       0.79      1.00      0.88    155722\n",
      "\n",
      "   micro avg       0.80      0.80      0.80    205793\n",
      "   macro avg       0.87      0.58      0.58    205793\n",
      "weighted avg       0.83      0.80      0.74    205793\n",
      "\n"
     ]
    }
   ],
   "source": [
    "print(classification_report(y_true= train_data[target],\n",
    "                      y_pred = train_predictions))"
   ]
  },
  {
   "cell_type": "markdown",
   "metadata": {},
   "source": [
    "Validation Set"
   ]
  },
  {
   "cell_type": "code",
   "execution_count": 508,
   "metadata": {},
   "outputs": [
    {
     "name": "stdout",
     "output_type": "stream",
     "text": [
      "              precision    recall  f1-score   support\n",
      "\n",
      "       False       0.55      0.06      0.11     16597\n",
      "        True       0.77      0.98      0.86     52001\n",
      "\n",
      "   micro avg       0.76      0.76      0.76     68598\n",
      "   macro avg       0.66      0.52      0.48     68598\n",
      "weighted avg       0.71      0.76      0.68     68598\n",
      "\n"
     ]
    }
   ],
   "source": [
    "print(classification_report(y_true= valid_data[target],\n",
    "                      y_pred = valid_predictions))"
   ]
  },
  {
   "cell_type": "markdown",
   "metadata": {},
   "source": [
    "**Confusion Matrix**"
   ]
  },
  {
   "cell_type": "code",
   "execution_count": 78,
   "metadata": {},
   "outputs": [],
   "source": [
    "from sklearn.metrics import confusion_matrix"
   ]
  },
  {
   "cell_type": "code",
   "execution_count": 509,
   "metadata": {},
   "outputs": [
    {
     "data": {
      "text/plain": [
       "array([[  992, 15605],\n",
       "       [  822, 51179]], dtype=int64)"
      ]
     },
     "execution_count": 509,
     "metadata": {},
     "output_type": "execute_result"
    }
   ],
   "source": [
    "confusion_matrix(y_true = valid_data[target],\n",
    "                 y_pred = valid_predictions)"
   ]
  },
  {
   "cell_type": "markdown",
   "metadata": {},
   "source": [
    "**ROC**"
   ]
  },
  {
   "cell_type": "code",
   "execution_count": 80,
   "metadata": {},
   "outputs": [],
   "source": [
    "from sklearn.metrics import roc_auc_score, roc_curve"
   ]
  },
  {
   "cell_type": "code",
   "execution_count": 513,
   "metadata": {},
   "outputs": [
    {
     "data": {
      "text/plain": [
       "0.6798667828650737"
      ]
     },
     "execution_count": 513,
     "metadata": {},
     "output_type": "execute_result"
    }
   ],
   "source": [
    "roc_auc_score(y_true= valid_data[target],\n",
    "              y_score = valid_scores[:,index_positive])"
   ]
  },
  {
   "cell_type": "code",
   "execution_count": 82,
   "metadata": {},
   "outputs": [],
   "source": [
    "import matplotlib.pyplot as plt"
   ]
  },
  {
   "cell_type": "code",
   "execution_count": 511,
   "metadata": {},
   "outputs": [],
   "source": [
    "fpr, tpr, thresholds = roc_curve(y_true= valid_data[target], y_score=valid_scores[:,index_positive])"
   ]
  },
  {
   "cell_type": "code",
   "execution_count": 512,
   "metadata": {},
   "outputs": [
    {
     "data": {
      "text/plain": [
       "[<matplotlib.lines.Line2D at 0x27f87e3df28>]"
      ]
     },
     "execution_count": 512,
     "metadata": {},
     "output_type": "execute_result"
    },
    {
     "data": {
      "image/png": "[encoded data removed]",
      "text/plain": [
       "<Figure size 432x288 with 1 Axes>"
      ]
     },
     "metadata": {
      "needs_background": "light"
     },
     "output_type": "display_data"
    }
   ],
   "source": [
    "plt.plot(fpr, tpr, 'ro')"
   ]
  },
  {
   "cell_type": "markdown",
   "metadata": {},
   "source": [
    "**Example Predictions**"
   ]
  },
  {
   "cell_type": "code",
   "execution_count": 329,
   "metadata": {},
   "outputs": [],
   "source": [
    "valid_data_predictions = valid_data.assign(scores = pd.Series(valid_scores[:,index_positive]).values)"
   ]
  },
  {
   "cell_type": "code",
   "execution_count": 330,
   "metadata": {},
   "outputs": [],
   "source": [
    "high_predictions = valid_data_predictions[valid_data_predictions.scores > 0.98]"
   ]
  },
  {
   "cell_type": "code",
   "execution_count": 331,
   "metadata": {},
   "outputs": [
    {
     "data": {
      "text/html": [
       "<div>\n",
       "<style scoped>\n",
       "    .dataframe tbody tr th:only-of-type {\n",
       "        vertical-align: middle;\n",
       "    }\n",
       "\n",
       "    .dataframe tbody tr th {\n",
       "        vertical-align: top;\n",
       "    }\n",
       "\n",
       "    .dataframe thead th {\n",
       "        text-align: right;\n",
       "    }\n",
       "</style>\n",
       "<table border=\"1\" class=\"dataframe\">\n",
       "  <thead>\n",
       "    <tr style=\"text-align: right;\">\n",
       "      <th></th>\n",
       "      <th>id</th>\n",
       "      <th>member_id</th>\n",
       "      <th>loan_amnt</th>\n",
       "      <th>funded_amnt</th>\n",
       "      <th>funded_amnt_inv</th>\n",
       "      <th>term</th>\n",
       "      <th>int_rate</th>\n",
       "      <th>installment</th>\n",
       "      <th>grade</th>\n",
       "      <th>sub_grade</th>\n",
       "      <th>...</th>\n",
       "      <th>open_rv_12m</th>\n",
       "      <th>open_rv_24m</th>\n",
       "      <th>max_bal_bc</th>\n",
       "      <th>all_util</th>\n",
       "      <th>total_rev_hi_lim</th>\n",
       "      <th>inq_fi</th>\n",
       "      <th>total_cu_tl</th>\n",
       "      <th>inq_last_12m</th>\n",
       "      <th>good_loan</th>\n",
       "      <th>scores</th>\n",
       "    </tr>\n",
       "  </thead>\n",
       "  <tbody>\n",
       "    <tr>\n",
       "      <th>200681</th>\n",
       "      <td>1476597</td>\n",
       "      <td>1734402</td>\n",
       "      <td>4000.0</td>\n",
       "      <td>4000.0</td>\n",
       "      <td>3950.0</td>\n",
       "      <td>36 months</td>\n",
       "      <td>6.62</td>\n",
       "      <td>122.82</td>\n",
       "      <td>A</td>\n",
       "      <td>A2</td>\n",
       "      <td>...</td>\n",
       "      <td>NaN</td>\n",
       "      <td>NaN</td>\n",
       "      <td>NaN</td>\n",
       "      <td>NaN</td>\n",
       "      <td>12200.0</td>\n",
       "      <td>NaN</td>\n",
       "      <td>NaN</td>\n",
       "      <td>NaN</td>\n",
       "      <td>True</td>\n",
       "      <td>0.980704</td>\n",
       "    </tr>\n",
       "    <tr>\n",
       "      <th>159154</th>\n",
       "      <td>3628427</td>\n",
       "      <td>4580852</td>\n",
       "      <td>2300.0</td>\n",
       "      <td>2300.0</td>\n",
       "      <td>2300.0</td>\n",
       "      <td>36 months</td>\n",
       "      <td>6.62</td>\n",
       "      <td>70.62</td>\n",
       "      <td>A</td>\n",
       "      <td>A2</td>\n",
       "      <td>...</td>\n",
       "      <td>NaN</td>\n",
       "      <td>NaN</td>\n",
       "      <td>NaN</td>\n",
       "      <td>NaN</td>\n",
       "      <td>16500.0</td>\n",
       "      <td>NaN</td>\n",
       "      <td>NaN</td>\n",
       "      <td>NaN</td>\n",
       "      <td>True</td>\n",
       "      <td>0.980987</td>\n",
       "    </tr>\n",
       "    <tr>\n",
       "      <th>27639</th>\n",
       "      <td>551197</td>\n",
       "      <td>710362</td>\n",
       "      <td>6000.0</td>\n",
       "      <td>6000.0</td>\n",
       "      <td>6000.0</td>\n",
       "      <td>36 months</td>\n",
       "      <td>6.76</td>\n",
       "      <td>184.61</td>\n",
       "      <td>A</td>\n",
       "      <td>A2</td>\n",
       "      <td>...</td>\n",
       "      <td>NaN</td>\n",
       "      <td>NaN</td>\n",
       "      <td>NaN</td>\n",
       "      <td>NaN</td>\n",
       "      <td>NaN</td>\n",
       "      <td>NaN</td>\n",
       "      <td>NaN</td>\n",
       "      <td>NaN</td>\n",
       "      <td>True</td>\n",
       "      <td>0.983132</td>\n",
       "    </tr>\n",
       "    <tr>\n",
       "      <th>187116</th>\n",
       "      <td>1814879</td>\n",
       "      <td>2117064</td>\n",
       "      <td>2800.0</td>\n",
       "      <td>2800.0</td>\n",
       "      <td>2800.0</td>\n",
       "      <td>36 months</td>\n",
       "      <td>6.03</td>\n",
       "      <td>85.22</td>\n",
       "      <td>A</td>\n",
       "      <td>A1</td>\n",
       "      <td>...</td>\n",
       "      <td>NaN</td>\n",
       "      <td>NaN</td>\n",
       "      <td>NaN</td>\n",
       "      <td>NaN</td>\n",
       "      <td>70000.0</td>\n",
       "      <td>NaN</td>\n",
       "      <td>NaN</td>\n",
       "      <td>NaN</td>\n",
       "      <td>True</td>\n",
       "      <td>0.980058</td>\n",
       "    </tr>\n",
       "    <tr>\n",
       "      <th>189915</th>\n",
       "      <td>1637526</td>\n",
       "      <td>1909853</td>\n",
       "      <td>3000.0</td>\n",
       "      <td>3000.0</td>\n",
       "      <td>3000.0</td>\n",
       "      <td>36 months</td>\n",
       "      <td>6.62</td>\n",
       "      <td>92.12</td>\n",
       "      <td>A</td>\n",
       "      <td>A2</td>\n",
       "      <td>...</td>\n",
       "      <td>NaN</td>\n",
       "      <td>NaN</td>\n",
       "      <td>NaN</td>\n",
       "      <td>NaN</td>\n",
       "      <td>65000.0</td>\n",
       "      <td>NaN</td>\n",
       "      <td>NaN</td>\n",
       "      <td>NaN</td>\n",
       "      <td>True</td>\n",
       "      <td>0.982360</td>\n",
       "    </tr>\n",
       "    <tr>\n",
       "      <th>141941</th>\n",
       "      <td>4805994</td>\n",
       "      <td>6068217</td>\n",
       "      <td>28000.0</td>\n",
       "      <td>28000.0</td>\n",
       "      <td>28000.0</td>\n",
       "      <td>36 months</td>\n",
       "      <td>7.62</td>\n",
       "      <td>872.52</td>\n",
       "      <td>A</td>\n",
       "      <td>A3</td>\n",
       "      <td>...</td>\n",
       "      <td>NaN</td>\n",
       "      <td>NaN</td>\n",
       "      <td>NaN</td>\n",
       "      <td>NaN</td>\n",
       "      <td>213700.0</td>\n",
       "      <td>NaN</td>\n",
       "      <td>NaN</td>\n",
       "      <td>NaN</td>\n",
       "      <td>True</td>\n",
       "      <td>0.981379</td>\n",
       "    </tr>\n",
       "    <tr>\n",
       "      <th>218314</th>\n",
       "      <td>1268334</td>\n",
       "      <td>1512171</td>\n",
       "      <td>23000.0</td>\n",
       "      <td>23000.0</td>\n",
       "      <td>23000.0</td>\n",
       "      <td>36 months</td>\n",
       "      <td>7.62</td>\n",
       "      <td>716.72</td>\n",
       "      <td>A</td>\n",
       "      <td>A3</td>\n",
       "      <td>...</td>\n",
       "      <td>NaN</td>\n",
       "      <td>NaN</td>\n",
       "      <td>NaN</td>\n",
       "      <td>NaN</td>\n",
       "      <td>NaN</td>\n",
       "      <td>NaN</td>\n",
       "      <td>NaN</td>\n",
       "      <td>NaN</td>\n",
       "      <td>True</td>\n",
       "      <td>0.985672</td>\n",
       "    </tr>\n",
       "  </tbody>\n",
       "</table>\n",
       "<p>7 rows × 76 columns</p>\n",
       "</div>"
      ],
      "text/plain": [
       "             id  member_id  loan_amnt  funded_amnt  funded_amnt_inv  \\\n",
       "200681  1476597    1734402     4000.0       4000.0           3950.0   \n",
       "159154  3628427    4580852     2300.0       2300.0           2300.0   \n",
       "27639    551197     710362     6000.0       6000.0           6000.0   \n",
       "187116  1814879    2117064     2800.0       2800.0           2800.0   \n",
       "189915  1637526    1909853     3000.0       3000.0           3000.0   \n",
       "141941  4805994    6068217    28000.0      28000.0          28000.0   \n",
       "218314  1268334    1512171    23000.0      23000.0          23000.0   \n",
       "\n",
       "              term  int_rate  installment grade sub_grade    ...     \\\n",
       "200681   36 months      6.62       122.82     A        A2    ...      \n",
       "159154   36 months      6.62        70.62     A        A2    ...      \n",
       "27639    36 months      6.76       184.61     A        A2    ...      \n",
       "187116   36 months      6.03        85.22     A        A1    ...      \n",
       "189915   36 months      6.62        92.12     A        A2    ...      \n",
       "141941   36 months      7.62       872.52     A        A3    ...      \n",
       "218314   36 months      7.62       716.72     A        A3    ...      \n",
       "\n",
       "       open_rv_12m open_rv_24m max_bal_bc  all_util total_rev_hi_lim inq_fi  \\\n",
       "200681         NaN         NaN        NaN       NaN          12200.0    NaN   \n",
       "159154         NaN         NaN        NaN       NaN          16500.0    NaN   \n",
       "27639          NaN         NaN        NaN       NaN              NaN    NaN   \n",
       "187116         NaN         NaN        NaN       NaN          70000.0    NaN   \n",
       "189915         NaN         NaN        NaN       NaN          65000.0    NaN   \n",
       "141941         NaN         NaN        NaN       NaN         213700.0    NaN   \n",
       "218314         NaN         NaN        NaN       NaN              NaN    NaN   \n",
       "\n",
       "       total_cu_tl inq_last_12m good_loan    scores  \n",
       "200681         NaN          NaN      True  0.980704  \n",
       "159154         NaN          NaN      True  0.980987  \n",
       "27639          NaN          NaN      True  0.983132  \n",
       "187116         NaN          NaN      True  0.980058  \n",
       "189915         NaN          NaN      True  0.982360  \n",
       "141941         NaN          NaN      True  0.981379  \n",
       "218314         NaN          NaN      True  0.985672  \n",
       "\n",
       "[7 rows x 76 columns]"
      ]
     },
     "execution_count": 331,
     "metadata": {},
     "output_type": "execute_result"
    }
   ],
   "source": [
    "high_predictions.head(20)"
   ]
  },
  {
   "cell_type": "code",
   "execution_count": 334,
   "metadata": {},
   "outputs": [],
   "source": [
    "low_predictions = valid_data_predictions[valid_data_predictions.scores < 0.3]"
   ]
  },
  {
   "cell_type": "code",
   "execution_count": 335,
   "metadata": {},
   "outputs": [
    {
     "data": {
      "text/html": [
       "<div>\n",
       "<style scoped>\n",
       "    .dataframe tbody tr th:only-of-type {\n",
       "        vertical-align: middle;\n",
       "    }\n",
       "\n",
       "    .dataframe tbody tr th {\n",
       "        vertical-align: top;\n",
       "    }\n",
       "\n",
       "    .dataframe thead th {\n",
       "        text-align: right;\n",
       "    }\n",
       "</style>\n",
       "<table border=\"1\" class=\"dataframe\">\n",
       "  <thead>\n",
       "    <tr style=\"text-align: right;\">\n",
       "      <th></th>\n",
       "      <th>id</th>\n",
       "      <th>member_id</th>\n",
       "      <th>loan_amnt</th>\n",
       "      <th>funded_amnt</th>\n",
       "      <th>funded_amnt_inv</th>\n",
       "      <th>term</th>\n",
       "      <th>int_rate</th>\n",
       "      <th>installment</th>\n",
       "      <th>grade</th>\n",
       "      <th>sub_grade</th>\n",
       "      <th>...</th>\n",
       "      <th>open_rv_12m</th>\n",
       "      <th>open_rv_24m</th>\n",
       "      <th>max_bal_bc</th>\n",
       "      <th>all_util</th>\n",
       "      <th>total_rev_hi_lim</th>\n",
       "      <th>inq_fi</th>\n",
       "      <th>total_cu_tl</th>\n",
       "      <th>inq_last_12m</th>\n",
       "      <th>good_loan</th>\n",
       "      <th>scores</th>\n",
       "    </tr>\n",
       "  </thead>\n",
       "  <tbody>\n",
       "    <tr>\n",
       "      <th>607418</th>\n",
       "      <td>59139505</td>\n",
       "      <td>63027235</td>\n",
       "      <td>25000.0</td>\n",
       "      <td>25000.0</td>\n",
       "      <td>25000.0</td>\n",
       "      <td>60 months</td>\n",
       "      <td>20.99</td>\n",
       "      <td>676.20</td>\n",
       "      <td>E</td>\n",
       "      <td>E5</td>\n",
       "      <td>...</td>\n",
       "      <td>NaN</td>\n",
       "      <td>NaN</td>\n",
       "      <td>NaN</td>\n",
       "      <td>NaN</td>\n",
       "      <td>42200.0</td>\n",
       "      <td>NaN</td>\n",
       "      <td>NaN</td>\n",
       "      <td>NaN</td>\n",
       "      <td>True</td>\n",
       "      <td>0.295338</td>\n",
       "    </tr>\n",
       "    <tr>\n",
       "      <th>93836</th>\n",
       "      <td>7048231</td>\n",
       "      <td>8710292</td>\n",
       "      <td>11100.0</td>\n",
       "      <td>11100.0</td>\n",
       "      <td>11100.0</td>\n",
       "      <td>60 months</td>\n",
       "      <td>21.60</td>\n",
       "      <td>304.06</td>\n",
       "      <td>E</td>\n",
       "      <td>E3</td>\n",
       "      <td>...</td>\n",
       "      <td>NaN</td>\n",
       "      <td>NaN</td>\n",
       "      <td>NaN</td>\n",
       "      <td>NaN</td>\n",
       "      <td>33500.0</td>\n",
       "      <td>NaN</td>\n",
       "      <td>NaN</td>\n",
       "      <td>NaN</td>\n",
       "      <td>False</td>\n",
       "      <td>0.269439</td>\n",
       "    </tr>\n",
       "    <tr>\n",
       "      <th>441363</th>\n",
       "      <td>11445019</td>\n",
       "      <td>13377179</td>\n",
       "      <td>15325.0</td>\n",
       "      <td>15325.0</td>\n",
       "      <td>15325.0</td>\n",
       "      <td>60 months</td>\n",
       "      <td>25.80</td>\n",
       "      <td>457.03</td>\n",
       "      <td>G</td>\n",
       "      <td>G1</td>\n",
       "      <td>...</td>\n",
       "      <td>NaN</td>\n",
       "      <td>NaN</td>\n",
       "      <td>NaN</td>\n",
       "      <td>NaN</td>\n",
       "      <td>6800.0</td>\n",
       "      <td>NaN</td>\n",
       "      <td>NaN</td>\n",
       "      <td>NaN</td>\n",
       "      <td>False</td>\n",
       "      <td>0.265956</td>\n",
       "    </tr>\n",
       "    <tr>\n",
       "      <th>287313</th>\n",
       "      <td>30264912</td>\n",
       "      <td>32808074</td>\n",
       "      <td>30625.0</td>\n",
       "      <td>30625.0</td>\n",
       "      <td>30600.0</td>\n",
       "      <td>60 months</td>\n",
       "      <td>26.06</td>\n",
       "      <td>918.02</td>\n",
       "      <td>G</td>\n",
       "      <td>G5</td>\n",
       "      <td>...</td>\n",
       "      <td>NaN</td>\n",
       "      <td>NaN</td>\n",
       "      <td>NaN</td>\n",
       "      <td>NaN</td>\n",
       "      <td>5500.0</td>\n",
       "      <td>NaN</td>\n",
       "      <td>NaN</td>\n",
       "      <td>NaN</td>\n",
       "      <td>False</td>\n",
       "      <td>0.296318</td>\n",
       "    </tr>\n",
       "    <tr>\n",
       "      <th>319268</th>\n",
       "      <td>25366753</td>\n",
       "      <td>27809584</td>\n",
       "      <td>10800.0</td>\n",
       "      <td>10800.0</td>\n",
       "      <td>10800.0</td>\n",
       "      <td>60 months</td>\n",
       "      <td>24.50</td>\n",
       "      <td>313.84</td>\n",
       "      <td>F</td>\n",
       "      <td>F3</td>\n",
       "      <td>...</td>\n",
       "      <td>NaN</td>\n",
       "      <td>NaN</td>\n",
       "      <td>NaN</td>\n",
       "      <td>NaN</td>\n",
       "      <td>22100.0</td>\n",
       "      <td>NaN</td>\n",
       "      <td>NaN</td>\n",
       "      <td>NaN</td>\n",
       "      <td>True</td>\n",
       "      <td>0.268847</td>\n",
       "    </tr>\n",
       "    <tr>\n",
       "      <th>390260</th>\n",
       "      <td>16052016</td>\n",
       "      <td>18154447</td>\n",
       "      <td>17075.0</td>\n",
       "      <td>17075.0</td>\n",
       "      <td>17075.0</td>\n",
       "      <td>60 months</td>\n",
       "      <td>25.80</td>\n",
       "      <td>509.22</td>\n",
       "      <td>G</td>\n",
       "      <td>G1</td>\n",
       "      <td>...</td>\n",
       "      <td>NaN</td>\n",
       "      <td>NaN</td>\n",
       "      <td>NaN</td>\n",
       "      <td>NaN</td>\n",
       "      <td>17300.0</td>\n",
       "      <td>NaN</td>\n",
       "      <td>NaN</td>\n",
       "      <td>NaN</td>\n",
       "      <td>True</td>\n",
       "      <td>0.278243</td>\n",
       "    </tr>\n",
       "    <tr>\n",
       "      <th>125921</th>\n",
       "      <td>5789590</td>\n",
       "      <td>7221655</td>\n",
       "      <td>12175.0</td>\n",
       "      <td>12175.0</td>\n",
       "      <td>12175.0</td>\n",
       "      <td>60 months</td>\n",
       "      <td>23.76</td>\n",
       "      <td>348.56</td>\n",
       "      <td>F</td>\n",
       "      <td>F4</td>\n",
       "      <td>...</td>\n",
       "      <td>NaN</td>\n",
       "      <td>NaN</td>\n",
       "      <td>NaN</td>\n",
       "      <td>NaN</td>\n",
       "      <td>24900.0</td>\n",
       "      <td>NaN</td>\n",
       "      <td>NaN</td>\n",
       "      <td>NaN</td>\n",
       "      <td>False</td>\n",
       "      <td>0.208166</td>\n",
       "    </tr>\n",
       "    <tr>\n",
       "      <th>384137</th>\n",
       "      <td>16342957</td>\n",
       "      <td>18445374</td>\n",
       "      <td>15925.0</td>\n",
       "      <td>15925.0</td>\n",
       "      <td>15875.0</td>\n",
       "      <td>60 months</td>\n",
       "      <td>20.99</td>\n",
       "      <td>430.74</td>\n",
       "      <td>E</td>\n",
       "      <td>E4</td>\n",
       "      <td>...</td>\n",
       "      <td>NaN</td>\n",
       "      <td>NaN</td>\n",
       "      <td>NaN</td>\n",
       "      <td>NaN</td>\n",
       "      <td>24400.0</td>\n",
       "      <td>NaN</td>\n",
       "      <td>NaN</td>\n",
       "      <td>NaN</td>\n",
       "      <td>True</td>\n",
       "      <td>0.291760</td>\n",
       "    </tr>\n",
       "  </tbody>\n",
       "</table>\n",
       "<p>8 rows × 76 columns</p>\n",
       "</div>"
      ],
      "text/plain": [
       "              id  member_id  loan_amnt  funded_amnt  funded_amnt_inv  \\\n",
       "607418  59139505   63027235    25000.0      25000.0          25000.0   \n",
       "93836    7048231    8710292    11100.0      11100.0          11100.0   \n",
       "441363  11445019   13377179    15325.0      15325.0          15325.0   \n",
       "287313  30264912   32808074    30625.0      30625.0          30600.0   \n",
       "319268  25366753   27809584    10800.0      10800.0          10800.0   \n",
       "390260  16052016   18154447    17075.0      17075.0          17075.0   \n",
       "125921   5789590    7221655    12175.0      12175.0          12175.0   \n",
       "384137  16342957   18445374    15925.0      15925.0          15875.0   \n",
       "\n",
       "              term  int_rate  installment grade sub_grade    ...     \\\n",
       "607418   60 months     20.99       676.20     E        E5    ...      \n",
       "93836    60 months     21.60       304.06     E        E3    ...      \n",
       "441363   60 months     25.80       457.03     G        G1    ...      \n",
       "287313   60 months     26.06       918.02     G        G5    ...      \n",
       "319268   60 months     24.50       313.84     F        F3    ...      \n",
       "390260   60 months     25.80       509.22     G        G1    ...      \n",
       "125921   60 months     23.76       348.56     F        F4    ...      \n",
       "384137   60 months     20.99       430.74     E        E4    ...      \n",
       "\n",
       "       open_rv_12m open_rv_24m max_bal_bc  all_util total_rev_hi_lim inq_fi  \\\n",
       "607418         NaN         NaN        NaN       NaN          42200.0    NaN   \n",
       "93836          NaN         NaN        NaN       NaN          33500.0    NaN   \n",
       "441363         NaN         NaN        NaN       NaN           6800.0    NaN   \n",
       "287313         NaN         NaN        NaN       NaN           5500.0    NaN   \n",
       "319268         NaN         NaN        NaN       NaN          22100.0    NaN   \n",
       "390260         NaN         NaN        NaN       NaN          17300.0    NaN   \n",
       "125921         NaN         NaN        NaN       NaN          24900.0    NaN   \n",
       "384137         NaN         NaN        NaN       NaN          24400.0    NaN   \n",
       "\n",
       "       total_cu_tl inq_last_12m good_loan    scores  \n",
       "607418         NaN          NaN      True  0.295338  \n",
       "93836          NaN          NaN     False  0.269439  \n",
       "441363         NaN          NaN     False  0.265956  \n",
       "287313         NaN          NaN     False  0.296318  \n",
       "319268         NaN          NaN      True  0.268847  \n",
       "390260         NaN          NaN      True  0.278243  \n",
       "125921         NaN          NaN     False  0.208166  \n",
       "384137         NaN          NaN      True  0.291760  \n",
       "\n",
       "[8 rows x 76 columns]"
      ]
     },
     "execution_count": 335,
     "metadata": {},
     "output_type": "execute_result"
    }
   ],
   "source": [
    "low_predictions.head(20)"
   ]
  },
  {
   "cell_type": "markdown",
   "metadata": {},
   "source": [
    "# Experimental Area"
   ]
  },
  {
   "cell_type": "code",
   "execution_count": null,
   "metadata": {},
   "outputs": [],
   "source": []
  }
 ],
 "metadata": {
  "kernelspec": {
   "display_name": "Python 3",
   "language": "python",
   "name": "python3"
  },
  "language_info": {
   "codemirror_mode": {
    "name": "ipython",
    "version": 3
   },
   "file_extension": ".py",
   "mimetype": "text/x-python",
   "name": "python",
   "nbconvert_exporter": "python",
   "pygments_lexer": "ipython3",
   "version": "3.7.1"
  }
 },
 "nbformat": 4,
 "nbformat_minor": 2
}
